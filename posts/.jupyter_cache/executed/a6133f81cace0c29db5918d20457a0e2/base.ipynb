{
 "cells": [
  {
   "cell_type": "code",
   "execution_count": 1,
   "id": "2fb84fe8",
   "metadata": {},
   "outputs": [
    {
     "name": "stdout",
     "output_type": "stream",
     "text": [
      "{\"/usr/lib/python3.8/importlib/_bootstrap.py\": 1722272530.0, \"/usr/lib/python3.8/importlib/_bootstrap_external.py\": 1722272530.0, \"/usr/lib/python3.8/codecs.py\": 1722272530.0, \"/usr/lib/python3.8/encodings/aliases.py\": 1722272530.0, \"/usr/lib/python3.8/encodings/__init__.py\": 1722272530.0, \"/usr/lib/python3.8/encodings/utf_8.py\": 1722272530.0, \"/usr/lib/python3.8/encodings/latin_1.py\": 1722272530.0, \"/usr/lib/python3.8/abc.py\": 1722272530.0, \"/usr/lib/python3.8/io.py\": 1722272530.0, \"/usr/lib/python3.8/stat.py\": 1722272530.0, \"/usr/lib/python3.8/_collections_abc.py\": 1722272530.0, \"/usr/lib/python3.8/genericpath.py\": 1722272530.0, \"/usr/lib/python3.8/posixpath.py\": 1722272530.0, \"/usr/lib/python3.8/os.py\": 1722272530.0, \"/usr/lib/python3.8/_sitebuiltins.py\": 1722272530.0, \"/usr/lib/python3.8/_bootlocale.py\": 1722272530.0, \"/usr/lib/python3.8/types.py\": 1722272530.0, \"/usr/lib/python3.8/warnings.py\": 1722272530.0, \"/usr/lib/python3.8/importlib/__init__.py\": 1722272530.0, \"/usr/lib/python3.8/importlib/machinery.py\": 1722272530.0, \"/usr/lib/python3.8/importlib/abc.py\": 1722272530.0, \"/usr/lib/python3.8/operator.py\": 1722272530.0, \"/usr/lib/python3.8/keyword.py\": 1722272530.0, \"/usr/lib/python3.8/heapq.py\": 1722272530.0, \"/usr/lib/python3.8/reprlib.py\": 1722272530.0, \"/usr/lib/python3.8/collections/__init__.py\": 1722272530.0, \"/usr/lib/python3.8/functools.py\": 1722272530.0, \"/usr/lib/python3.8/contextlib.py\": 1722272530.0, \"/usr/lib/python3.8/importlib/util.py\": 1722272530.0, \"/usr/lib/python3/dist-packages/zope/__init__.py\": 1582716439.0, \"/usr/lib/python3/dist-packages/apport_python_hook.py\": 1663245819.0, \"/usr/lib/python3.8/sitecustomize.py\": 1584094456.0, \"/usr/lib/python3.8/site.py\": 1722272530.0, \"/usr/lib/python3.8/_weakrefset.py\": 1722272530.0, \"/usr/lib/python3.8/weakref.py\": 1722272530.0, \"/usr/lib/python3.8/pkgutil.py\": 1722272530.0, \"/usr/lib/python3.8/runpy.py\": 1722272530.0, \"/usr/lib/python3.8/enum.py\": 1722272530.0, \"/usr/lib/python3.8/sre_constants.py\": 1722272530.0, \"/usr/lib/python3.8/sre_parse.py\": 1722272530.0, \"/usr/lib/python3.8/sre_compile.py\": 1722272530.0, \"/usr/lib/python3.8/copyreg.py\": 1722272530.0, \"/usr/lib/python3.8/re.py\": 1722272530.0, \"/usr/lib/python3.8/fnmatch.py\": 1722272530.0, \"/usr/lib/python3.8/ntpath.py\": 1722272530.0, \"/usr/lib/python3.8/urllib/__init__.py\": 1722272530.0, \"/usr/lib/python3.8/urllib/parse.py\": 1722272530.0, \"/usr/lib/python3.8/pathlib.py\": 1722272530.0, \"/usr/lib/python3.8/collections/abc.py\": 1722272530.0, \"/usr/lib/python3.8/typing.py\": 1722272530.0, \"/home/abhijit/.local/lib/python3.8/site-packages/ipykernel/_version.py\": 1724856453.777755, \"/usr/lib/python3.8/__future__.py\": 1722272530.0, \"/usr/lib/python3.8/lib-dynload/_json.cpython-38-x86_64-linux-gnu.so\": 1722272530.0, \"/usr/lib/python3.8/json/scanner.py\": 1722272530.0, \"/usr/lib/python3.8/json/decoder.py\": 1722272530.0, \"/usr/lib/python3.8/json/encoder.py\": 1722272530.0, \"/usr/lib/python3.8/json/__init__.py\": 1722272530.0, \"/usr/lib/python3.8/signal.py\": 1722272530.0, \"/usr/lib/python3.8/threading.py\": 1722272530.0, \"/usr/lib/python3.8/selectors.py\": 1722272530.0, \"/usr/lib/python3.8/subprocess.py\": 1722272530.0, \"/home/abhijit/.local/lib/python3.8/site-packages/jupyter_client/_version.py\": 1724856452.6477551, \"/usr/lib/python3.8/platform.py\": 1722272530.0, \"/home/abhijit/.local/lib/python3.8/site-packages/zmq/backend/select.py\": 1724856452.1977553, \"/home/abhijit/.local/lib/python3.8/site-packages/zmq/constants.py\": 1724856452.1877553, \"/home/abhijit/.local/lib/python3.8/site-packages/zmq/error.py\": 1724856452.1877553, \"/home/abhijit/.local/lib/python3.8/site-packages/zmq/backend/cython/_zmq.cpython-38-x86_64-linux-gnu.so\": 1724856452.1977553, \"/home/abhijit/.local/lib/python3.8/site-packages/zmq/backend/cython/__init__.py\": 1724856452.1977553, \"/home/abhijit/.local/lib/python3.8/site-packages/zmq/backend/__init__.py\": 1724856452.1977553, \"/usr/lib/python3.8/lib-dynload/_opcode.cpython-38-x86_64-linux-gnu.so\": 1722272530.0, \"/usr/lib/python3.8/opcode.py\": 1722272530.0, \"/usr/lib/python3.8/dis.py\": 1722272530.0, \"/usr/lib/python3.8/token.py\": 1722272530.0, \"/usr/lib/python3.8/tokenize.py\": 1722272530.0, \"/usr/lib/python3.8/linecache.py\": 1722272530.0, \"/usr/lib/python3.8/inspect.py\": 1722272530.0, \"/home/abhijit/.local/lib/python3.8/site-packages/typing_extensions.py\": 1724856450.7777553, \"/home/abhijit/.local/lib/python3.8/site-packages/zmq/_typing.py\": 1724856452.1877553, \"/home/abhijit/.local/lib/python3.8/site-packages/zmq/utils/__init__.py\": 1724856452.1977553, \"/home/abhijit/.local/lib/python3.8/site-packages/zmq/utils/interop.py\": 1724856452.1977553, \"/home/abhijit/.local/lib/python3.8/site-packages/zmq/sugar/attrsettr.py\": 1724856452.1977553, \"/usr/lib/python3.8/struct.py\": 1722272530.0, \"/usr/lib/python3.8/_compat_pickle.py\": 1722272530.0, \"/usr/lib/python3.8/pickle.py\": 1722272530.0, \"/usr/lib/python3.8/bisect.py\": 1722272530.0, \"/usr/lib/python3.8/random.py\": 1722272530.0, \"/home/abhijit/.local/lib/python3.8/site-packages/zmq/utils/jsonapi.py\": 1724856452.1977553, \"/home/abhijit/.local/lib/python3.8/site-packages/zmq/sugar/poll.py\": 1724856452.1977553, \"/home/abhijit/.local/lib/python3.8/site-packages/zmq/sugar/socket.py\": 1724856452.1977553, \"/home/abhijit/.local/lib/python3.8/site-packages/zmq/sugar/context.py\": 1724856452.1977553, \"/home/abhijit/.local/lib/python3.8/site-packages/zmq/sugar/frame.py\": 1724856452.1977553, \"/home/abhijit/.local/lib/python3.8/site-packages/zmq/sugar/tracker.py\": 1724856452.1977553, \"/home/abhijit/.local/lib/python3.8/site-packages/zmq/sugar/version.py\": 1724856452.1977553, \"/home/abhijit/.local/lib/python3.8/site-packages/zmq/sugar/stopwatch.py\": 1724856452.1877553, \"/home/abhijit/.local/lib/python3.8/site-packages/zmq/sugar/__init__.py\": 1724856452.1977553, \"/home/abhijit/.local/lib/python3.8/site-packages/zmq/__init__.py\": 1724856452.1877553, \"/usr/lib/python3.8/concurrent/__init__.py\": 1722272530.0, \"/usr/lib/python3.8/traceback.py\": 1722272530.0, \"/usr/lib/python3.8/string.py\": 1722272530.0, \"/usr/lib/python3.8/logging/__init__.py\": 1722272530.0, \"/usr/lib/python3.8/concurrent/futures/_base.py\": 1722272530.0, \"/usr/lib/python3.8/concurrent/futures/__init__.py\": 1722272530.0, \"/usr/lib/python3.8/socket.py\": 1722272530.0, \"/usr/lib/python3.8/lib-dynload/_ssl.cpython-38-x86_64-linux-gnu.so\": 1722272530.0, \"/usr/lib/python3.8/base64.py\": 1722272530.0, \"/usr/lib/python3.8/ssl.py\": 1722272530.0, \"/usr/lib/python3.8/asyncio/constants.py\": 1722272530.0, \"/usr/lib/python3.8/asyncio/format_helpers.py\": 1722272530.0, \"/usr/lib/python3.8/asyncio/base_futures.py\": 1722272530.0, \"/usr/lib/python3.8/asyncio/log.py\": 1722272530.0, \"/usr/lib/python3.8/asyncio/coroutines.py\": 1722272530.0, \"/usr/lib/python3.8/lib-dynload/_contextvars.cpython-38-x86_64-linux-gnu.so\": 1722272530.0, \"/usr/lib/python3.8/contextvars.py\": 1722272530.0, \"/usr/lib/python3.8/asyncio/exceptions.py\": 1722272530.0, \"/usr/lib/python3.8/asyncio/base_tasks.py\": 1722272530.0, \"/usr/lib/python3.8/lib-dynload/_asyncio.cpython-38-x86_64-linux-gnu.so\": 1722272530.0, \"/usr/lib/python3.8/asyncio/events.py\": 1722272530.0, \"/usr/lib/python3.8/asyncio/futures.py\": 1722272530.0, \"/usr/lib/python3.8/asyncio/protocols.py\": 1722272530.0, \"/usr/lib/python3.8/asyncio/transports.py\": 1722272530.0, \"/usr/lib/python3.8/asyncio/sslproto.py\": 1722272530.0, \"/usr/lib/python3.8/asyncio/locks.py\": 1722272530.0, \"/usr/lib/python3.8/asyncio/tasks.py\": 1722272530.0, \"/usr/lib/python3.8/asyncio/staggered.py\": 1722272530.0, \"/usr/lib/python3.8/asyncio/trsock.py\": 1722272530.0, \"/usr/lib/python3.8/asyncio/base_events.py\": 1722272530.0, \"/usr/lib/python3.8/asyncio/runners.py\": 1722272530.0, \"/usr/lib/python3.8/asyncio/queues.py\": 1722272530.0, \"/usr/lib/python3.8/asyncio/streams.py\": 1722272530.0, \"/usr/lib/python3.8/asyncio/subprocess.py\": 1722272530.0, \"/usr/lib/python3.8/asyncio/base_subprocess.py\": 1722272530.0, \"/usr/lib/python3.8/asyncio/selector_events.py\": 1722272530.0, \"/usr/lib/python3.8/asyncio/unix_events.py\": 1722272530.0, \"/usr/lib/python3.8/asyncio/__init__.py\": 1722272530.0, \"/home/abhijit/.local/lib/python3.8/site-packages/zmq/_future.py\": 1724856452.1877553, \"/home/abhijit/.local/lib/python3.8/site-packages/zmq/asyncio.py\": 1724856452.1877553, \"/usr/lib/python3.8/ast.py\": 1722272530.0, \"/home/abhijit/.local/lib/python3.8/site-packages/traitlets/utils/__init__.py\": 1724856449.4977558, \"/home/abhijit/.local/lib/python3.8/site-packages/traitlets/utils/bunch.py\": 1724856449.4977558, \"/home/abhijit/.local/lib/python3.8/site-packages/traitlets/utils/descriptions.py\": 1724856449.4977558, \"/home/abhijit/.local/lib/python3.8/site-packages/traitlets/utils/getargspec.py\": 1724856449.4977558, \"/home/abhijit/.local/lib/python3.8/site-packages/traitlets/utils/importstring.py\": 1724856449.4977558, \"/home/abhijit/.local/lib/python3.8/site-packages/traitlets/utils/sentinel.py\": 1724856449.4977558, \"/home/abhijit/.local/lib/python3.8/site-packages/traitlets/utils/warnings.py\": 1724856449.4977558, \"/home/abhijit/.local/lib/python3.8/site-packages/traitlets/traitlets.py\": 1724856449.4877558, \"/home/abhijit/.local/lib/python3.8/site-packages/traitlets/_version.py\": 1724856449.4877558, \"/usr/lib/python3.8/copy.py\": 1722272530.0, \"/home/abhijit/.local/lib/python3.8/site-packages/traitlets/utils/decorators.py\": 1724856449.4977558, \"/home/abhijit/.local/lib/python3.8/site-packages/traitlets/__init__.py\": 1724856449.4877558, \"/usr/lib/python3.8/lib-dynload/_queue.cpython-38-x86_64-linux-gnu.so\": 1722272530.0, \"/usr/lib/python3.8/queue.py\": 1722272530.0, \"/home/abhijit/.local/lib/python3.8/site-packages/jupyter_core/version.py\": 1724856449.5677557, \"/home/abhijit/.local/lib/python3.8/site-packages/jupyter_core/__init__.py\": 1724856449.5677557, \"/home/abhijit/.local/lib/python3.8/site-packages/jupyter_core/utils/__init__.py\": 1724856449.5677557, \"/home/abhijit/.local/lib/python3.8/site-packages/jupyter_client/channelsabc.py\": 1724856452.6577551, \"/usr/lib/python3.8/lib-dynload/_hashlib.cpython-38-x86_64-linux-gnu.so\": 1722272530.0, \"/usr/lib/python3.8/hashlib.py\": 1722272530.0, \"/usr/lib/python3.8/hmac.py\": 1722272530.0, \"/usr/lib/python3.8/pprint.py\": 1722272530.0, \"/usr/lib/python3.8/datetime.py\": 1722272530.0, \"/home/abhijit/.local/lib/python3.8/site-packages/tornado/__init__.py\": 1724856452.3977551, \"/usr/lib/python3.8/numbers.py\": 1722272530.0, \"/usr/lib/python3.8/logging/handlers.py\": 1722272530.0, \"/usr/lib/python3.8/html/entities.py\": 1722272530.0, \"/usr/lib/python3.8/html/__init__.py\": 1722272530.0, \"/home/abhijit/.local/lib/python3.8/site-packages/tornado/speedups.abi3.so\": 1724856452.4077551, \"/home/abhijit/.local/lib/python3.8/site-packages/tornado/util.py\": 1724856452.3977551, \"/home/abhijit/.local/lib/python3.8/site-packages/tornado/escape.py\": 1724856452.3977551, \"/usr/lib/python3/dist-packages/colorama/ansi.py\": 1575665300.0, \"/usr/lib/python3.8/lib-dynload/_ctypes.cpython-38-x86_64-linux-gnu.so\": 1722272530.0, \"/usr/lib/python3.8/ctypes/_endian.py\": 1722272530.0, \"/usr/lib/python3.8/ctypes/__init__.py\": 1722272530.0, \"/usr/lib/python3/dist-packages/colorama/win32.py\": 1575665300.0, \"/usr/lib/python3/dist-packages/colorama/winterm.py\": 1575665300.0, \"/usr/lib/python3/dist-packages/colorama/ansitowin32.py\": 1575665300.0, \"/usr/lib/python3/dist-packages/colorama/initialise.py\": 1575665300.0, \"/usr/lib/python3/dist-packages/colorama/__init__.py\": 1575665300.0, \"/usr/lib/python3.8/lib-dynload/_curses.cpython-38-x86_64-linux-gnu.so\": 1722272530.0, \"/usr/lib/python3.8/curses/__init__.py\": 1722272530.0, \"/home/abhijit/.local/lib/python3.8/site-packages/tornado/log.py\": 1724856452.3977551, \"/home/abhijit/.local/lib/python3.8/site-packages/tornado/concurrent.py\": 1724856452.3977551, \"/home/abhijit/.local/lib/python3.8/site-packages/tornado/ioloop.py\": 1724856452.4077551, \"/usr/lib/python3.8/socketserver.py\": 1722272530.0, \"/usr/lib/python3.8/logging/config.py\": 1722272530.0, \"/usr/lib/python3.8/textwrap.py\": 1722272530.0, \"/home/abhijit/.local/lib/python3.8/site-packages/traitlets/utils/text.py\": 1724856449.4977558, \"/usr/lib/python3.8/locale.py\": 1722272530.0, \"/usr/lib/python3.8/gettext.py\": 1722272530.0, \"/usr/lib/python3.8/argparse.py\": 1722272530.0, \"/home/abhijit/.local/lib/python3.8/site-packages/traitlets/config/loader.py\": 1724856449.4877558, \"/home/abhijit/.local/lib/python3.8/site-packages/traitlets/config/configurable.py\": 1724856449.4877558, \"/home/abhijit/.local/lib/python3.8/site-packages/traitlets/utils/nested_update.py\": 1724856449.4977558, \"/home/abhijit/.local/lib/python3.8/site-packages/traitlets/config/application.py\": 1724856449.4877558, \"/home/abhijit/.local/lib/python3.8/site-packages/traitlets/config/__init__.py\": 1724856449.4877558, \"/home/abhijit/.local/lib/python3.8/site-packages/traitlets/log.py\": 1724856449.4877558, \"/home/abhijit/.local/lib/python3.8/site-packages/zmq/eventloop/__init__.py\": 1724856452.2077553, \"/home/abhijit/.local/lib/python3.8/site-packages/zmq/eventloop/zmqstream.py\": 1724856452.2077553, \"/home/abhijit/.local/lib/python3.8/site-packages/jupyter_client/adapter.py\": 1724856452.6477551, \"/home/abhijit/.local/lib/python3.8/site-packages/dateutil/_version.py\": 1724856452.3077552, \"/home/abhijit/.local/lib/python3.8/site-packages/dateutil/__init__.py\": 1724856452.3077552, \"/usr/lib/python3.8/calendar.py\": 1722272530.0, \"/usr/lib/python3/dist-packages/six.py\": 1579111801.0, \"/usr/lib/python3.8/lib-dynload/_decimal.cpython-38-x86_64-linux-gnu.so\": 1722272530.0, \"/usr/lib/python3.8/decimal.py\": 1722272530.0, \"/home/abhijit/.local/lib/python3.8/site-packages/dateutil/_common.py\": 1724856452.3077552, \"/home/abhijit/.local/lib/python3.8/site-packages/dateutil/relativedelta.py\": 1724856452.3077552, \"/home/abhijit/.local/lib/python3.8/site-packages/dateutil/tz/_common.py\": 1724856452.3177552, \"/home/abhijit/.local/lib/python3.8/site-packages/dateutil/tz/_factories.py\": 1724856452.3177552, \"/home/abhijit/.local/lib/python3.8/site-packages/dateutil/tz/tz.py\": 1724856452.3177552, \"/home/abhijit/.local/lib/python3.8/site-packages/dateutil/tz/__init__.py\": 1724856452.3177552, \"/home/abhijit/.local/lib/python3.8/site-packages/dateutil/parser/_parser.py\": 1724856452.3177552, \"/home/abhijit/.local/lib/python3.8/site-packages/dateutil/parser/isoparser.py\": 1724856452.3177552, \"/home/abhijit/.local/lib/python3.8/site-packages/dateutil/parser/__init__.py\": 1724856452.3077552, \"/usr/lib/python3.8/_strptime.py\": 1722272530.0, \"/home/abhijit/.local/lib/python3.8/site-packages/jupyter_client/jsonutil.py\": 1724856452.6577551, \"/home/abhijit/.local/lib/python3.8/site-packages/jupyter_client/session.py\": 1724856452.6577551, \"/home/abhijit/.local/lib/python3.8/site-packages/jupyter_client/channels.py\": 1724856452.6577551, \"/usr/lib/python3.8/lib-dynload/termios.cpython-38-x86_64-linux-gnu.so\": 1722272530.0, \"/usr/lib/python3.8/getpass.py\": 1722272530.0, \"/home/abhijit/.local/lib/python3.8/site-packages/jupyter_client/clientabc.py\": 1724856452.6577551, \"/usr/lib/python3.8/glob.py\": 1722272530.0, \"/usr/lib/python3.8/_compression.py\": 1722272530.0, \"/usr/lib/python3.8/lib-dynload/_bz2.cpython-38-x86_64-linux-gnu.so\": 1722272530.0, \"/usr/lib/python3.8/bz2.py\": 1722272530.0, \"/usr/lib/python3.8/lib-dynload/_lzma.cpython-38-x86_64-linux-gnu.so\": 1722272530.0, \"/usr/lib/python3.8/lzma.py\": 1722272530.0, \"/usr/lib/python3.8/shutil.py\": 1722272530.0, \"/usr/lib/python3.8/tempfile.py\": 1722272530.0, \"/home/abhijit/.local/lib/python3.8/site-packages/platformdirs/api.py\": 1724856449.4577558, \"/home/abhijit/.local/lib/python3.8/site-packages/platformdirs/version.py\": 1724856449.4577558, \"/usr/lib/python3.8/configparser.py\": 1722272530.0, \"/home/abhijit/.local/lib/python3.8/site-packages/platformdirs/unix.py\": 1724856449.4577558, \"/home/abhijit/.local/lib/python3.8/site-packages/platformdirs/__init__.py\": 1724856449.4577558, \"/home/abhijit/.local/lib/python3.8/site-packages/jupyter_core/paths.py\": 1724856449.5677557, \"/home/abhijit/.local/lib/python3.8/site-packages/jupyter_client/localinterfaces.py\": 1724856452.6577551, \"/home/abhijit/.local/lib/python3.8/site-packages/jupyter_client/utils.py\": 1724856452.6577551, \"/home/abhijit/.local/lib/python3.8/site-packages/jupyter_client/connect.py\": 1724856452.6577551, \"/home/abhijit/.local/lib/python3.8/site-packages/jupyter_client/client.py\": 1724856452.6577551, \"/home/abhijit/.local/lib/python3.8/site-packages/jupyter_client/asynchronous/client.py\": 1724856452.6577551, \"/home/abhijit/.local/lib/python3.8/site-packages/jupyter_client/asynchronous/__init__.py\": 1724856452.6577551, \"/home/abhijit/.local/lib/python3.8/site-packages/jupyter_client/blocking/client.py\": 1724856452.6577551, \"/home/abhijit/.local/lib/python3.8/site-packages/jupyter_client/blocking/__init__.py\": 1724856452.6577551, \"/home/abhijit/.local/lib/python3.8/site-packages/jupyter_client/launcher.py\": 1724856452.6577551, \"/usr/lib/python3.8/lib-dynload/_uuid.cpython-38-x86_64-linux-gnu.so\": 1722272530.0, \"/usr/lib/python3.8/uuid.py\": 1722272530.0, \"/usr/lib/python3.8/zipfile.py\": 1722272530.0, \"/usr/lib/python3/dist-packages/more_itertools/recipes.py\": 1527126014.0, \"/usr/lib/python3/dist-packages/more_itertools/more.py\": 1526350253.0, \"/usr/lib/python3/dist-packages/more_itertools/__init__.py\": 1512312605.0, \"/usr/lib/python3/dist-packages/zipp.py\": 1578957024.0, \"/usr/lib/python3.8/email/__init__.py\": 1722272530.0, \"/home/abhijit/.local/lib/python3.8/site-packages/importlib_metadata/_meta.py\": 1724856452.3677552, \"/home/abhijit/.local/lib/python3.8/site-packages/importlib_metadata/compat/__init__.py\": 1724856452.3677552, \"/home/abhijit/.local/lib/python3.8/site-packages/importlib_metadata/compat/py39.py\": 1724856452.3677552, \"/home/abhijit/.local/lib/python3.8/site-packages/importlib_metadata/compat/py311.py\": 1724856452.3677552, \"/home/abhijit/.local/lib/python3.8/site-packages/importlib_metadata/_collections.py\": 1724856452.3677552, \"/home/abhijit/.local/lib/python3.8/site-packages/importlib_metadata/_compat.py\": 1724856452.3677552, \"/home/abhijit/.local/lib/python3.8/site-packages/importlib_metadata/_functools.py\": 1724856452.3677552, \"/home/abhijit/.local/lib/python3.8/site-packages/importlib_metadata/_itertools.py\": 1724856452.3677552, \"/home/abhijit/.local/lib/python3.8/site-packages/importlib_metadata/__init__.py\": 1724856452.3677552, \"/home/abhijit/.local/lib/python3.8/site-packages/jupyter_client/provisioning/provisioner_base.py\": 1724856452.6577551, \"/home/abhijit/.local/lib/python3.8/site-packages/jupyter_client/provisioning/factory.py\": 1724856452.6577551, \"/home/abhijit/.local/lib/python3.8/site-packages/jupyter_client/provisioning/local_provisioner.py\": 1724856452.6577551, \"/home/abhijit/.local/lib/python3.8/site-packages/jupyter_client/provisioning/__init__.py\": 1724856452.6577551, \"/home/abhijit/.local/lib/python3.8/site-packages/jupyter_client/kernelspec.py\": 1724856452.6577551, \"/home/abhijit/.local/lib/python3.8/site-packages/jupyter_client/managerabc.py\": 1724856452.6577551, \"/home/abhijit/.local/lib/python3.8/site-packages/jupyter_client/manager.py\": 1724856452.6577551, \"/home/abhijit/.local/lib/python3.8/site-packages/jupyter_client/multikernelmanager.py\": 1724856452.6577551, \"/home/abhijit/.local/lib/python3.8/site-packages/jupyter_client/__init__.py\": 1724856452.6477551, \"/home/abhijit/.local/lib/python3.8/site-packages/ipykernel/connect.py\": 1724856453.777755, \"/home/abhijit/.local/lib/python3.8/site-packages/ipykernel/__init__.py\": 1724856453.777755, \"/home/abhijit/.local/lib/python3.8/site-packages/IPython/core/__init__.py\": 1724856451.7077553, \"/home/abhijit/.local/lib/python3.8/site-packages/IPython/core/getipython.py\": 1724856451.7177553, \"/home/abhijit/.local/lib/python3.8/site-packages/IPython/core/release.py\": 1724856451.7177553, \"/usr/lib/python3.8/sysconfig.py\": 1722272530.0, \"/usr/lib/python3.8/_sysconfigdata__x86_64-linux-gnu.py\": 1722272530.0, \"/usr/lib/python3.8/pydoc.py\": 1722272530.0, \"/home/abhijit/.local/lib/python3.8/site-packages/executing/executing.py\": 1724856450.7477553, \"/home/abhijit/.local/lib/python3.8/site-packages/executing/version.py\": 1724856450.7477553, \"/home/abhijit/.local/lib/python3.8/site-packages/executing/__init__.py\": 1724856450.7477553, \"/home/abhijit/.local/lib/python3.8/site-packages/asttokens/line_numbers.py\": 1724856450.7077553, \"/home/abhijit/.local/lib/python3.8/site-packages/asttokens/util.py\": 1724856450.7077553, \"/home/abhijit/.local/lib/python3.8/site-packages/asttokens/asttokens.py\": 1724856450.7077553, \"/home/abhijit/.local/lib/python3.8/site-packages/asttokens/__init__.py\": 1724856450.7077553, \"/usr/lib/python3.8/fractions.py\": 1722272530.0, \"/home/abhijit/.local/lib/python3.8/site-packages/pure_eval/utils.py\": 1724856450.7277553, \"/home/abhijit/.local/lib/python3.8/site-packages/pure_eval/my_getattr_static.py\": 1724856450.7277553, \"/home/abhijit/.local/lib/python3.8/site-packages/pure_eval/core.py\": 1724856450.7277553, \"/home/abhijit/.local/lib/python3.8/site-packages/pure_eval/version.py\": 1724856450.7277553, \"/home/abhijit/.local/lib/python3.8/site-packages/pure_eval/__init__.py\": 1724856450.7277553, \"/home/abhijit/.local/lib/python3.8/site-packages/stack_data/utils.py\": 1724856450.7677553, \"/home/abhijit/.local/lib/python3.8/site-packages/stack_data/core.py\": 1724856450.7677553, \"/home/abhijit/.local/lib/python3.8/site-packages/stack_data/formatting.py\": 1724856450.7677553, \"/home/abhijit/.local/lib/python3.8/site-packages/stack_data/serializing.py\": 1724856450.7677553, \"/home/abhijit/.local/lib/python3.8/site-packages/stack_data/version.py\": 1724856450.7677553, \"/home/abhijit/.local/lib/python3.8/site-packages/stack_data/__init__.py\": 1724856450.7677553, \"/home/abhijit/.local/lib/python3.8/site-packages/pygments/__init__.py\": 1724856450.0077555, \"/home/abhijit/.local/lib/python3.8/site-packages/pygments/formatters/_mapping.py\": 1724856450.0077555, \"/usr/lib/python3.8/csv.py\": 1722272530.0, \"/usr/lib/python3.8/importlib/metadata.py\": 1722272530.0, \"/home/abhijit/.local/lib/python3.8/site-packages/pygments/plugin.py\": 1724856450.0077555, \"/home/abhijit/.local/lib/python3.8/site-packages/pygments/util.py\": 1724856450.0077555, \"/home/abhijit/.local/lib/python3.8/site-packages/pygments/formatters/__init__.py\": 1724856450.0077555, \"/home/abhijit/.local/lib/python3.8/site-packages/pygments/styles/_mapping.py\": 1724856450.0577555, \"/home/abhijit/.local/lib/python3.8/site-packages/pygments/styles/__init__.py\": 1724856450.0577555, \"/home/abhijit/.local/lib/python3.8/site-packages/pygments/formatter.py\": 1724856450.0077555, \"/home/abhijit/.local/lib/python3.8/site-packages/pygments/console.py\": 1724856450.0077555, \"/home/abhijit/.local/lib/python3.8/site-packages/pygments/token.py\": 1724856450.0077555, \"/home/abhijit/.local/lib/python3.8/site-packages/pygments/style.py\": 1724856450.0077555, \"/home/abhijit/.local/lib/python3.8/site-packages/pygments/formatters/terminal256.py\": 1724856450.0177555, \"/home/abhijit/.local/lib/python3.8/site-packages/IPython/utils/__init__.py\": 1724856451.7477553, \"/home/abhijit/.local/lib/python3.8/site-packages/IPython/utils/colorable.py\": 1724856451.7477553, \"/home/abhijit/.local/lib/python3.8/site-packages/IPython/utils/ipstruct.py\": 1724856451.7477553, \"/home/abhijit/.local/lib/python3.8/site-packages/IPython/utils/coloransi.py\": 1724856451.7477553, \"/home/abhijit/.local/lib/python3.8/site-packages/IPython/utils/PyColorize.py\": 1724856451.7477553, \"/home/abhijit/.local/lib/python3.8/site-packages/IPython/utils/encoding.py\": 1724856451.7477553, \"/home/abhijit/.local/lib/python3.8/site-packages/IPython/utils/py3compat.py\": 1724856451.7577553, \"/home/abhijit/.local/lib/python3.8/site-packages/IPython/core/excolors.py\": 1724856451.7177553, \"/usr/lib/python3.8/cmd.py\": 1722272530.0, \"/usr/lib/python3.8/bdb.py\": 1722272530.0, \"/usr/lib/python3.8/codeop.py\": 1722272530.0, \"/usr/lib/python3.8/code.py\": 1722272530.0, \"/usr/lib/python3.8/pdb.py\": 1722272530.0, \"/home/abhijit/.local/lib/python3.8/site-packages/IPython/core/debugger.py\": 1724856451.7177553, \"/home/abhijit/.local/lib/python3.8/site-packages/IPython/core/display_trap.py\": 1724856451.7177553, \"/usr/lib/python3/dist-packages/pexpect/exceptions.py\": 1503844866.0, \"/usr/lib/python3/dist-packages/pexpect/utils.py\": 1527595965.0, \"/usr/lib/python3/dist-packages/pexpect/expect.py\": 1523473437.0, \"/usr/lib/python3.8/tty.py\": 1722272530.0, \"/usr/lib/python3.8/pty.py\": 1722272530.0, \"/usr/lib/python3.8/lib-dynload/resource.cpython-38-x86_64-linux-gnu.so\": 1722272530.0, \"/home/abhijit/.local/lib/python3.8/site-packages/ptyprocess/util.py\": 1724856455.217755, \"/home/abhijit/.local/lib/python3.8/site-packages/ptyprocess/ptyprocess.py\": 1724856455.217755, \"/home/abhijit/.local/lib/python3.8/site-packages/ptyprocess/__init__.py\": 1724856455.217755, \"/usr/lib/python3/dist-packages/pexpect/spawnbase.py\": 1523473437.0, \"/usr/lib/python3/dist-packages/pexpect/pty_spawn.py\": 1523640952.0, \"/usr/lib/python3/dist-packages/pexpect/run.py\": 1503844866.0, \"/usr/lib/python3/dist-packages/pexpect/__init__.py\": 1527596118.0, \"/usr/lib/python3.8/shlex.py\": 1722272530.0, \"/home/abhijit/.local/lib/python3.8/site-packages/IPython/utils/_process_common.py\": 1724856451.7477553, \"/home/abhijit/.local/lib/python3.8/site-packages/IPython/utils/_process_posix.py\": 1724856451.7477553, \"/home/abhijit/.local/lib/python3.8/site-packages/IPython/utils/process.py\": 1724856451.7577553, \"/home/abhijit/.local/lib/python3.8/site-packages/IPython/utils/path.py\": 1724856451.7577553, \"/home/abhijit/.local/lib/python3.8/site-packages/IPython/utils/terminal.py\": 1724856451.7577553, \"/home/abhijit/.local/lib/python3.8/site-packages/IPython/core/ultratb.py\": 1724856451.7177553, \"/home/abhijit/.local/lib/python3.8/site-packages/IPython/utils/_sysinfo.py\": 1724856451.7477553, \"/home/abhijit/.local/lib/python3.8/site-packages/IPython/utils/sysinfo.py\": 1724856451.7577553, \"/home/abhijit/.local/lib/python3.8/site-packages/IPython/core/crashhandler.py\": 1724856451.7177553, \"/home/abhijit/.local/lib/python3.8/site-packages/IPython/utils/importstring.py\": 1724856451.7477553, \"/home/abhijit/.local/lib/python3.8/site-packages/IPython/paths.py\": 1724856451.7077553, \"/home/abhijit/.local/lib/python3.8/site-packages/IPython/core/profiledir.py\": 1724856451.7177553, \"/home/abhijit/.local/lib/python3.8/site-packages/IPython/core/application.py\": 1724856451.7177553, \"/home/abhijit/.local/lib/python3.8/site-packages/IPython/terminal/__init__.py\": 1724856451.7377553, \"/home/abhijit/.local/lib/python3.8/site-packages/IPython/core/compilerop.py\": 1724856451.7177553, \"/home/abhijit/.local/lib/python3.8/site-packages/IPython/core/error.py\": 1724856451.7177553, \"/home/abhijit/.local/lib/python3.8/site-packages/IPython/utils/docs.py\": 1724856451.7477553, \"/home/abhijit/.local/lib/python3.8/site-packages/IPython/utils/decorators.py\": 1724856451.7477553, \"/home/abhijit/.local/lib/python3.8/site-packages/IPython/utils/text.py\": 1724856451.7577553, \"/home/abhijit/.local/lib/python3.8/site-packages/IPython/core/magic_arguments.py\": 1724856451.7177553, \"/usr/lib/python3.8/getopt.py\": 1722272530.0, \"/usr/lib/python3.8/dataclasses.py\": 1722272530.0, \"/home/abhijit/.local/lib/python3.8/site-packages/IPython/core/display_functions.py\": 1724856451.7177553, \"/usr/lib/python3.8/mimetypes.py\": 1722272530.0, \"/home/abhijit/.local/lib/python3.8/site-packages/IPython/testing/__init__.py\": 1724856451.7477553, \"/home/abhijit/.local/lib/python3.8/site-packages/IPython/testing/skipdoctest.py\": 1724856451.7477553, \"/home/abhijit/.local/lib/python3.8/site-packages/IPython/core/display.py\": 1724856451.7177553, \"/home/abhijit/.local/lib/python3.8/site-packages/IPython/lib/__init__.py\": 1724856451.7377553, \"/home/abhijit/.local/lib/python3.8/site-packages/IPython/lib/display.py\": 1724856451.7377553, \"/home/abhijit/.local/lib/python3.8/site-packages/IPython/display.py\": 1724856451.7077553, \"/home/abhijit/.local/lib/python3.8/site-packages/IPython/utils/data.py\": 1724856451.7477553, \"/home/abhijit/.local/lib/python3.8/site-packages/IPython/core/page.py\": 1724856451.7177553, \"/home/abhijit/.local/lib/python3.8/site-packages/IPython/lib/pretty.py\": 1724856451.7377553, \"/home/abhijit/.local/lib/python3.8/site-packages/IPython/utils/openpy.py\": 1724856451.7577553, \"/home/abhijit/.local/lib/python3.8/site-packages/IPython/utils/dir2.py\": 1724856451.7477553, \"/home/abhijit/.local/lib/python3.8/site-packages/IPython/utils/wildcard.py\": 1724856451.7577553, \"/home/abhijit/.local/lib/python3.8/site-packages/pygments/lexers/_mapping.py\": 1724856450.0177555, \"/home/abhijit/.local/lib/python3.8/site-packages/pygments/modeline.py\": 1724856450.0077555, \"/home/abhijit/.local/lib/python3.8/site-packages/pygments/lexers/__init__.py\": 1724856450.0177555, \"/home/abhijit/.local/lib/python3.8/site-packages/pygments/filter.py\": 1724856450.0077555, \"/home/abhijit/.local/lib/python3.8/site-packages/pygments/filters/__init__.py\": 1724856450.0077555, \"/home/abhijit/.local/lib/python3.8/site-packages/pygments/regexopt.py\": 1724856450.0077555, \"/home/abhijit/.local/lib/python3.8/site-packages/pygments/lexer.py\": 1724856450.0077555, \"/home/abhijit/.local/lib/python3.8/site-packages/pygments/unistring.py\": 1724856450.0077555, \"/home/abhijit/.local/lib/python3.8/site-packages/pygments/lexers/python.py\": 1724856450.0477555, \"/home/abhijit/.local/lib/python3.8/site-packages/pygments/formatters/html.py\": 1724856450.0177555, \"/home/abhijit/.local/lib/python3.8/site-packages/IPython/core/oinspect.py\": 1724856451.7177553, \"/home/abhijit/.local/lib/python3.8/site-packages/IPython/core/inputtransformer2.py\": 1724856451.7177553, \"/home/abhijit/.local/lib/python3.8/site-packages/IPython/core/magic.py\": 1724856451.7177553, \"/home/abhijit/.local/lib/python3.8/site-packages/pickleshare.py\": 1724856449.5977557, \"/home/abhijit/.local/lib/python3.8/site-packages/IPython/core/hooks.py\": 1724856451.7177553, \"/home/abhijit/.local/lib/python3.8/site-packages/IPython/core/autocall.py\": 1724856451.7177553, \"/home/abhijit/.local/lib/python3.8/site-packages/IPython/core/macro.py\": 1724856451.7177553, \"/home/abhijit/.local/lib/python3.8/site-packages/IPython/core/splitinput.py\": 1724856451.7177553, \"/home/abhijit/.local/lib/python3.8/site-packages/IPython/core/prefilter.py\": 1724856451.7177553, \"/home/abhijit/.local/lib/python3.8/site-packages/IPython/core/alias.py\": 1724856451.7077553, \"/home/abhijit/.local/lib/python3.8/site-packages/IPython/core/builtin_trap.py\": 1724856451.7177553, \"/home/abhijit/.local/lib/python3.8/site-packages/IPython/core/displayhook.py\": 1724856451.7177553, \"/home/abhijit/.local/lib/python3.8/site-packages/IPython/core/displaypub.py\": 1724856451.7177553, \"/home/abhijit/.local/lib/python3.8/site-packages/backcall/backcall.py\": 1724856449.6177557, \"/home/abhijit/.local/lib/python3.8/site-packages/backcall/__init__.py\": 1724856449.6177557, \"/home/abhijit/.local/lib/python3.8/site-packages/IPython/core/events.py\": 1724856451.7177553, \"/home/abhijit/.local/lib/python3.8/site-packages/IPython/core/extensions.py\": 1724856451.7177553, \"/home/abhijit/.local/lib/python3.8/site-packages/decorator.py\": 1724856449.5977557, \"/home/abhijit/.local/lib/python3.8/site-packages/IPython/utils/sentinel.py\": 1724856451.7577553, \"/home/abhijit/.local/lib/python3.8/site-packages/IPython/core/formatters.py\": 1724856451.7177553, \"/usr/lib/python3.8/lib-dynload/_sqlite3.cpython-38-x86_64-linux-gnu.so\": 1722272530.0, \"/usr/lib/python3.8/sqlite3/dbapi2.py\": 1722272530.0, \"/usr/lib/python3.8/sqlite3/__init__.py\": 1722272530.0, \"/home/abhijit/.local/lib/python3.8/site-packages/IPython/core/history.py\": 1724856451.7177553, \"/home/abhijit/.local/lib/python3.8/site-packages/IPython/core/logger.py\": 1724856451.7177553, \"/home/abhijit/.local/lib/python3.8/site-packages/IPython/core/payload.py\": 1724856451.7177553, \"/home/abhijit/.local/lib/python3.8/site-packages/IPython/core/usage.py\": 1724856451.7177553, \"/home/abhijit/.local/lib/python3.8/site-packages/IPython/utils/capture.py\": 1724856451.7477553, \"/home/abhijit/.local/lib/python3.8/site-packages/IPython/utils/io.py\": 1724856451.7477553, \"/home/abhijit/.local/lib/python3.8/site-packages/IPython/utils/strdispatch.py\": 1724856451.7577553, \"/home/abhijit/.local/lib/python3.8/site-packages/IPython/utils/syspathcontext.py\": 1724856451.7577553, \"/home/abhijit/.local/lib/python3.8/site-packages/IPython/core/async_helpers.py\": 1724856451.7177553, \"/home/abhijit/.local/lib/python3.8/site-packages/IPython/core/interactiveshell.py\": 1724856451.7177553, \"/home/abhijit/.local/lib/python3.8/site-packages/prompt_toolkit/application/current.py\": 1724856449.6877556, \"/home/abhijit/.local/lib/python3.8/site-packages/prompt_toolkit/eventloop/utils.py\": 1724856449.6877556, \"/home/abhijit/.local/lib/python3.8/site-packages/prompt_toolkit/eventloop/async_generator.py\": 1724856449.6877556, \"/home/abhijit/.local/lib/python3.8/site-packages/prompt_toolkit/eventloop/inputhook.py\": 1724856449.6877556, \"/home/abhijit/.local/lib/python3.8/site-packages/prompt_toolkit/eventloop/__init__.py\": 1724856449.6877556, \"/home/abhijit/.local/lib/python3.8/site-packages/prompt_toolkit/application/run_in_terminal.py\": 1724856449.6877556, \"/home/abhijit/.local/lib/python3.8/site-packages/prompt_toolkit/selection.py\": 1724856449.6877556, \"/home/abhijit/.local/lib/python3.8/site-packages/prompt_toolkit/clipboard/base.py\": 1724856449.6877556, \"/home/abhijit/.local/lib/python3.8/site-packages/prompt_toolkit/clipboard/in_memory.py\": 1724856449.6877556, \"/home/abhijit/.local/lib/python3.8/site-packages/prompt_toolkit/clipboard/__init__.py\": 1724856449.6877556, \"/home/abhijit/.local/lib/python3.8/site-packages/prompt_toolkit/cache.py\": 1724856449.6777556, \"/home/abhijit/.local/lib/python3.8/site-packages/prompt_toolkit/enums.py\": 1724856449.6777556, \"/home/abhijit/.local/lib/python3.8/site-packages/prompt_toolkit/filters/base.py\": 1724856449.6877556, \"/home/abhijit/.local/lib/python3.8/site-packages/prompt_toolkit/filters/app.py\": 1724856449.6877556, \"/home/abhijit/.local/lib/python3.8/site-packages/prompt_toolkit/filters/cli.py\": 1724856449.6877556, \"/home/abhijit/.local/lib/python3.8/site-packages/prompt_toolkit/filters/utils.py\": 1724856449.6877556, \"/home/abhijit/.local/lib/python3.8/site-packages/prompt_toolkit/filters/__init__.py\": 1724856449.6877556, \"/home/abhijit/.local/lib/python3.8/site-packages/prompt_toolkit/document.py\": 1724856449.6777556, \"/home/abhijit/.local/lib/python3.8/site-packages/prompt_toolkit/auto_suggest.py\": 1724856449.6777556, \"/home/abhijit/.local/lib/python3.8/site-packages/prompt_toolkit/keys.py\": 1724856449.6877556, \"/home/abhijit/.local/lib/python3.8/site-packages/prompt_toolkit/key_binding/key_bindings.py\": 1724856449.6977556, \"/home/abhijit/.local/lib/python3.8/site-packages/wcwidth/table_vs16.py\": 1724856449.6277556, \"/home/abhijit/.local/lib/python3.8/site-packages/wcwidth/table_wide.py\": 1724856449.6277556, \"/home/abhijit/.local/lib/python3.8/site-packages/wcwidth/table_zero.py\": 1724856449.6277556, \"/home/abhijit/.local/lib/python3.8/site-packages/wcwidth/unicode_versions.py\": 1724856449.6277556, \"/home/abhijit/.local/lib/python3.8/site-packages/wcwidth/wcwidth.py\": 1724856449.6277556, \"/home/abhijit/.local/lib/python3.8/site-packages/wcwidth/__init__.py\": 1724856449.6277556, \"/home/abhijit/.local/lib/python3.8/site-packages/prompt_toolkit/utils.py\": 1724856449.6877556, \"/home/abhijit/.local/lib/python3.8/site-packages/prompt_toolkit/key_binding/key_processor.py\": 1724856449.6977556, \"/home/abhijit/.local/lib/python3.8/site-packages/prompt_toolkit/key_binding/__init__.py\": 1724856449.6977556, \"/home/abhijit/.local/lib/python3.8/site-packages/prompt_toolkit/key_binding/vi_state.py\": 1724856449.6977556, \"/home/abhijit/.local/lib/python3.8/site-packages/prompt_toolkit/cursor_shapes.py\": 1724856449.6777556, \"/home/abhijit/.local/lib/python3.8/site-packages/prompt_toolkit/data_structures.py\": 1724856449.6777556, \"/home/abhijit/.local/lib/python3.8/site-packages/prompt_toolkit/styles/base.py\": 1724856449.7077556, \"/home/abhijit/.local/lib/python3.8/site-packages/prompt_toolkit/styles/named_colors.py\": 1724856449.7077556, \"/home/abhijit/.local/lib/python3.8/site-packages/prompt_toolkit/styles/style.py\": 1724856449.7077556, \"/home/abhijit/.local/lib/python3.8/site-packages/prompt_toolkit/styles/defaults.py\": 1724856449.7077556, \"/home/abhijit/.local/lib/python3.8/site-packages/prompt_toolkit/styles/pygments.py\": 1724856449.7077556, \"/usr/lib/python3.8/colorsys.py\": 1722272530.0, \"/home/abhijit/.local/lib/python3.8/site-packages/prompt_toolkit/styles/style_transformation.py\": 1724856449.7077556, \"/home/abhijit/.local/lib/python3.8/site-packages/prompt_toolkit/styles/__init__.py\": 1724856449.7077556, \"/home/abhijit/.local/lib/python3.8/site-packages/prompt_toolkit/output/color_depth.py\": 1724856449.6977556, \"/home/abhijit/.local/lib/python3.8/site-packages/prompt_toolkit/output/base.py\": 1724856449.6977556, \"/home/abhijit/.local/lib/python3.8/site-packages/prompt_toolkit/output/flush_stdout.py\": 1724856449.6977556, \"/home/abhijit/.local/lib/python3.8/site-packages/prompt_toolkit/output/plain_text.py\": 1724856449.6977556, \"/home/abhijit/.local/lib/python3.8/site-packages/prompt_toolkit/output/defaults.py\": 1724856449.6977556, \"/home/abhijit/.local/lib/python3.8/site-packages/prompt_toolkit/output/__init__.py\": 1724856449.6977556, \"/home/abhijit/.local/lib/python3.8/site-packages/prompt_toolkit/output/vt100.py\": 1724856449.7077556, \"/home/abhijit/.local/lib/python3.8/site-packages/prompt_toolkit/mouse_events.py\": 1724856449.6877556, \"/home/abhijit/.local/lib/python3.8/site-packages/prompt_toolkit/formatted_text/base.py\": 1724856449.6877556, \"/home/abhijit/.local/lib/python3.8/site-packages/prompt_toolkit/formatted_text/ansi.py\": 1724856449.6877556, \"/usr/lib/python3.8/xml/__init__.py\": 1722272530.0, \"/usr/lib/python3.8/xml/dom/domreg.py\": 1722272530.0, \"/usr/lib/python3.8/xml/dom/__init__.py\": 1722272530.0, \"/usr/lib/python3.8/xml/dom/minicompat.py\": 1722272530.0, \"/usr/lib/python3.8/xml/dom/NodeFilter.py\": 1722272530.0, \"/usr/lib/python3.8/xml/dom/xmlbuilder.py\": 1722272530.0, \"/usr/lib/python3.8/xml/dom/minidom.py\": 1722272530.0, \"/home/abhijit/.local/lib/python3.8/site-packages/prompt_toolkit/formatted_text/html.py\": 1724856449.6877556, \"/home/abhijit/.local/lib/python3.8/site-packages/prompt_toolkit/formatted_text/pygments.py\": 1724856449.6877556, \"/home/abhijit/.local/lib/python3.8/site-packages/prompt_toolkit/formatted_text/utils.py\": 1724856449.6877556, \"/home/abhijit/.local/lib/python3.8/site-packages/prompt_toolkit/formatted_text/__init__.py\": 1724856449.6877556, \"/home/abhijit/.local/lib/python3.8/site-packages/prompt_toolkit/completion/base.py\": 1724856449.6877556, \"/home/abhijit/.local/lib/python3.8/site-packages/prompt_toolkit/completion/deduplicate.py\": 1724856449.6877556, \"/home/abhijit/.local/lib/python3.8/site-packages/prompt_toolkit/completion/filesystem.py\": 1724856449.6877556, \"/home/abhijit/.local/lib/python3.8/site-packages/prompt_toolkit/completion/word_completer.py\": 1724856449.6877556, \"/home/abhijit/.local/lib/python3.8/site-packages/prompt_toolkit/completion/fuzzy_completer.py\": 1724856449.6877556, \"/home/abhijit/.local/lib/python3.8/site-packages/prompt_toolkit/completion/nested.py\": 1724856449.6877556, \"/home/abhijit/.local/lib/python3.8/site-packages/prompt_toolkit/completion/__init__.py\": 1724856449.6877556, \"/home/abhijit/.local/lib/python3.8/site-packages/prompt_toolkit/history.py\": 1724856449.6877556, \"/home/abhijit/.local/lib/python3.8/site-packages/prompt_toolkit/search.py\": 1724856449.6877556, \"/home/abhijit/.local/lib/python3.8/site-packages/prompt_toolkit/validation.py\": 1724856449.6877556, \"/home/abhijit/.local/lib/python3.8/site-packages/prompt_toolkit/buffer.py\": 1724856449.6777556, \"/home/abhijit/.local/lib/python3.8/site-packages/prompt_toolkit/input/base.py\": 1724856449.6977556, \"/home/abhijit/.local/lib/python3.8/site-packages/prompt_toolkit/input/defaults.py\": 1724856449.6977556, \"/home/abhijit/.local/lib/python3.8/site-packages/prompt_toolkit/input/__init__.py\": 1724856449.6977556, \"/home/abhijit/.local/lib/python3.8/site-packages/prompt_toolkit/input/typeahead.py\": 1724856449.6977556, \"/home/abhijit/.local/lib/python3.8/site-packages/prompt_toolkit/key_binding/bindings/__init__.py\": 1724856449.6977556, \"/home/abhijit/.local/lib/python3.8/site-packages/prompt_toolkit/key_binding/bindings/scroll.py\": 1724856449.6977556, \"/home/abhijit/.local/lib/python3.8/site-packages/prompt_toolkit/key_binding/bindings/page_navigation.py\": 1724856449.6977556, \"/home/abhijit/.local/lib/python3.8/site-packages/prompt_toolkit/lexers/base.py\": 1724856449.6977556, \"/home/abhijit/.local/lib/python3.8/site-packages/prompt_toolkit/lexers/pygments.py\": 1724856449.6977556, \"/home/abhijit/.local/lib/python3.8/site-packages/prompt_toolkit/lexers/__init__.py\": 1724856449.6977556, \"/home/abhijit/.local/lib/python3.8/site-packages/prompt_toolkit/layout/utils.py\": 1724856449.6977556, \"/home/abhijit/.local/lib/python3.8/site-packages/prompt_toolkit/layout/processors.py\": 1724856449.6977556, \"/home/abhijit/.local/lib/python3.8/site-packages/prompt_toolkit/layout/controls.py\": 1724856449.6977556, \"/home/abhijit/.local/lib/python3.8/site-packages/prompt_toolkit/layout/dimension.py\": 1724856449.6977556, \"/home/abhijit/.local/lib/python3.8/site-packages/prompt_toolkit/layout/margins.py\": 1724856449.6977556, \"/home/abhijit/.local/lib/python3.8/site-packages/prompt_toolkit/layout/mouse_handlers.py\": 1724856449.6977556, \"/home/abhijit/.local/lib/python3.8/site-packages/prompt_toolkit/layout/screen.py\": 1724856449.6977556, \"/home/abhijit/.local/lib/python3.8/site-packages/prompt_toolkit/layout/containers.py\": 1724856449.6977556, \"/home/abhijit/.local/lib/python3.8/site-packages/prompt_toolkit/layout/layout.py\": 1724856449.6977556, \"/home/abhijit/.local/lib/python3.8/site-packages/prompt_toolkit/layout/menus.py\": 1724856449.6977556, \"/home/abhijit/.local/lib/python3.8/site-packages/prompt_toolkit/layout/scrollable_pane.py\": 1724856449.6977556, \"/home/abhijit/.local/lib/python3.8/site-packages/prompt_toolkit/layout/__init__.py\": 1724856449.6977556, \"/home/abhijit/.local/lib/python3.8/site-packages/prompt_toolkit/key_binding/bindings/completion.py\": 1724856449.6977556, \"/home/abhijit/.local/lib/python3.8/site-packages/prompt_toolkit/key_binding/bindings/named_commands.py\": 1724856449.6977556, \"/home/abhijit/.local/lib/python3.8/site-packages/prompt_toolkit/key_binding/bindings/basic.py\": 1724856449.6977556, \"/home/abhijit/.local/lib/python3.8/site-packages/prompt_toolkit/key_binding/bindings/cpr.py\": 1724856449.6977556, \"/home/abhijit/.local/lib/python3.8/site-packages/prompt_toolkit/key_binding/bindings/emacs.py\": 1724856449.6977556, \"/home/abhijit/.local/lib/python3.8/site-packages/prompt_toolkit/key_binding/bindings/mouse.py\": 1724856449.6977556, \"/home/abhijit/.local/lib/python3.8/site-packages/prompt_toolkit/input/ansi_escape_sequences.py\": 1724856449.6977556, \"/home/abhijit/.local/lib/python3.8/site-packages/prompt_toolkit/input/vt100_parser.py\": 1724856449.6977556, \"/home/abhijit/.local/lib/python3.8/site-packages/prompt_toolkit/key_binding/digraphs.py\": 1724856449.6977556, \"/home/abhijit/.local/lib/python3.8/site-packages/prompt_toolkit/key_binding/bindings/vi.py\": 1724856449.6977556, \"/home/abhijit/.local/lib/python3.8/site-packages/prompt_toolkit/key_binding/defaults.py\": 1724856449.6977556, \"/home/abhijit/.local/lib/python3.8/site-packages/prompt_toolkit/key_binding/emacs_state.py\": 1724856449.6977556, \"/home/abhijit/.local/lib/python3.8/site-packages/prompt_toolkit/layout/dummy.py\": 1724856449.6977556, \"/home/abhijit/.local/lib/python3.8/site-packages/prompt_toolkit/renderer.py\": 1724856449.6877556, \"/home/abhijit/.local/lib/python3.8/site-packages/prompt_toolkit/application/application.py\": 1724856449.6877556, \"/home/abhijit/.local/lib/python3.8/site-packages/prompt_toolkit/application/dummy.py\": 1724856449.6877556, \"/home/abhijit/.local/lib/python3.8/site-packages/prompt_toolkit/application/__init__.py\": 1724856449.6877556, \"/home/abhijit/.local/lib/python3.8/site-packages/prompt_toolkit/key_binding/bindings/focus.py\": 1724856449.6977556, \"/home/abhijit/.local/lib/python3.8/site-packages/prompt_toolkit/widgets/toolbars.py\": 1724856449.7077556, \"/home/abhijit/.local/lib/python3.8/site-packages/prompt_toolkit/widgets/base.py\": 1724856449.7077556, \"/home/abhijit/.local/lib/python3.8/site-packages/prompt_toolkit/widgets/dialogs.py\": 1724856449.7077556, \"/home/abhijit/.local/lib/python3.8/site-packages/prompt_toolkit/widgets/menus.py\": 1724856449.7077556, \"/home/abhijit/.local/lib/python3.8/site-packages/prompt_toolkit/widgets/__init__.py\": 1724856449.7077556, \"/home/abhijit/.local/lib/python3.8/site-packages/prompt_toolkit/shortcuts/dialogs.py\": 1724856449.7077556, \"/usr/lib/python3.8/xml/parsers/__init__.py\": 1722272530.0, \"/usr/lib/python3.8/xml/parsers/expat.py\": 1722272530.0, \"/usr/lib/python3.8/xml/dom/expatbuilder.py\": 1722272530.0, \"/home/abhijit/.local/lib/python3.8/site-packages/prompt_toolkit/shortcuts/progress_bar/formatters.py\": 1724856449.7077556, \"/home/abhijit/.local/lib/python3.8/site-packages/prompt_toolkit/shortcuts/progress_bar/base.py\": 1724856449.7077556, \"/home/abhijit/.local/lib/python3.8/site-packages/prompt_toolkit/shortcuts/progress_bar/__init__.py\": 1724856449.7077556, \"/home/abhijit/.local/lib/python3.8/site-packages/prompt_toolkit/key_binding/bindings/auto_suggest.py\": 1724856449.6977556, \"/home/abhijit/.local/lib/python3.8/site-packages/prompt_toolkit/key_binding/bindings/open_in_editor.py\": 1724856449.6977556, \"/home/abhijit/.local/lib/python3.8/site-packages/prompt_toolkit/shortcuts/prompt.py\": 1724856449.7077556, \"/home/abhijit/.local/lib/python3.8/site-packages/prompt_toolkit/shortcuts/utils.py\": 1724856449.7077556, \"/home/abhijit/.local/lib/python3.8/site-packages/prompt_toolkit/shortcuts/__init__.py\": 1724856449.7077556, \"/home/abhijit/.local/lib/python3.8/site-packages/prompt_toolkit/__init__.py\": 1724856449.6777556, \"/home/abhijit/.local/lib/python3.8/site-packages/prompt_toolkit/patch_stdout.py\": 1724856449.6877556, \"/home/abhijit/.local/lib/python3.8/site-packages/IPython/core/guarded_eval.py\": 1724856451.7177553, \"/home/abhijit/.local/lib/python3.8/site-packages/IPython/core/latex_symbols.py\": 1724856451.7177553, \"/home/abhijit/.local/lib/python3.8/site-packages/IPython/utils/generics.py\": 1724856451.7477553, \"/home/abhijit/.local/lib/python3.8/site-packages/parso/utils.py\": 1724856450.8077552, \"/home/abhijit/.local/lib/python3.8/site-packages/parso/tree.py\": 1724856450.8077552, \"/home/abhijit/.local/lib/python3.8/site-packages/parso/python/__init__.py\": 1724856450.8077552, \"/home/abhijit/.local/lib/python3.8/site-packages/parso/python/token.py\": 1724856450.8077552, \"/home/abhijit/.local/lib/python3.8/site-packages/parso/python/tokenize.py\": 1724856450.8077552, \"/home/abhijit/.local/lib/python3.8/site-packages/parso/pgen2/grammar_parser.py\": 1724856450.8077552, \"/home/abhijit/.local/lib/python3.8/site-packages/parso/pgen2/generator.py\": 1724856450.8077552, \"/home/abhijit/.local/lib/python3.8/site-packages/parso/pgen2/__init__.py\": 1724856450.8077552, \"/home/abhijit/.local/lib/python3.8/site-packages/parso/parser.py\": 1724856450.7977552, \"/home/abhijit/.local/lib/python3.8/site-packages/parso/_compatibility.py\": 1724856450.7977552, \"/usr/lib/python3.8/difflib.py\": 1722272530.0, \"/home/abhijit/.local/lib/python3.8/site-packages/parso/python/prefix.py\": 1724856450.8077552, \"/home/abhijit/.local/lib/python3.8/site-packages/parso/python/tree.py\": 1724856450.8077552, \"/home/abhijit/.local/lib/python3.8/site-packages/parso/python/parser.py\": 1724856450.8077552, \"/home/abhijit/.local/lib/python3.8/site-packages/parso/python/diff.py\": 1724856450.8077552, \"/home/abhijit/.local/lib/python3.8/site-packages/parso/cache.py\": 1724856450.7977552, \"/home/abhijit/.local/lib/python3.8/site-packages/parso/normalizer.py\": 1724856450.7977552, \"/home/abhijit/.local/lib/python3.8/site-packages/parso/python/errors.py\": 1724856450.8077552, \"/home/abhijit/.local/lib/python3.8/site-packages/parso/python/pep8.py\": 1724856450.8077552, \"/home/abhijit/.local/lib/python3.8/site-packages/parso/file_io.py\": 1724856450.7977552, \"/home/abhijit/.local/lib/python3.8/site-packages/parso/grammar.py\": 1724856450.7977552, \"/home/abhijit/.local/lib/python3.8/site-packages/parso/__init__.py\": 1724856450.7977552, \"/home/abhijit/.local/lib/python3.8/site-packages/jedi/parser_utils.py\": 1724856450.8877554, \"/home/abhijit/.local/lib/python3.8/site-packages/jedi/debug.py\": 1724856450.8877554, \"/home/abhijit/.local/lib/python3.8/site-packages/jedi/settings.py\": 1724856450.8877554, \"/home/abhijit/.local/lib/python3.8/site-packages/jedi/cache.py\": 1724856450.8777554, \"/home/abhijit/.local/lib/python3.8/site-packages/jedi/file_io.py\": 1724856450.8877554, \"/home/abhijit/.local/lib/python3.8/site-packages/jedi/inference/cache.py\": 1724856450.8877554, \"/home/abhijit/.local/lib/python3.8/site-packages/jedi/inference/helpers.py\": 1724856450.8877554, \"/home/abhijit/.local/lib/python3.8/site-packages/jedi/inference/utils.py\": 1724856450.8877554, \"/home/abhijit/.local/lib/python3.8/site-packages/jedi/inference/base_value.py\": 1724856450.8877554, \"/home/abhijit/.local/lib/python3.8/site-packages/jedi/inference/sys_path.py\": 1724856450.8877554, \"/home/abhijit/.local/lib/python3.8/site-packages/jedi/inference/recursion.py\": 1724856450.8877554, \"/home/abhijit/.local/lib/python3.8/site-packages/jedi/inference/flow_analysis.py\": 1724856450.8877554, \"/home/abhijit/.local/lib/python3.8/site-packages/jedi/common.py\": 1724856450.8877554, \"/home/abhijit/.local/lib/python3.8/site-packages/jedi/inference/lazy_value.py\": 1724856450.8877554, \"/home/abhijit/.local/lib/python3.8/site-packages/jedi/inference/docstrings.py\": 1724856450.8877554, \"/home/abhijit/.local/lib/python3.8/site-packages/jedi/plugins/__init__.py\": 1724856450.8977554, \"/home/abhijit/.local/lib/python3.8/site-packages/jedi/inference/names.py\": 1724856450.8877554, \"/home/abhijit/.local/lib/python3.8/site-packages/jedi/inference/filters.py\": 1724856450.8877554, \"/home/abhijit/.local/lib/python3.8/site-packages/jedi/inference/compiled/getattr_static.py\": 1724856450.8877554, \"/home/abhijit/.local/lib/python3.8/site-packages/jedi/inference/compiled/access.py\": 1724856450.8877554, \"/home/abhijit/.local/lib/python3.8/site-packages/jedi/inference/signature.py\": 1724856450.8877554, \"/home/abhijit/.local/lib/python3.8/site-packages/jedi/inference/context.py\": 1724856450.8877554, \"/home/abhijit/.local/lib/python3.8/site-packages/jedi/inference/compiled/value.py\": 1724856450.8877554, \"/home/abhijit/.local/lib/python3.8/site-packages/jedi/inference/compiled/__init__.py\": 1724856450.8877554, \"/home/abhijit/.local/lib/python3.8/site-packages/jedi/inference/analysis.py\": 1724856450.8877554, \"/home/abhijit/.local/lib/python3.8/site-packages/jedi/inference/gradual/__init__.py\": 1724856450.8877554, \"/home/abhijit/.local/lib/python3.8/site-packages/jedi/inference/value/module.py\": 1724856450.8977554, \"/home/abhijit/.local/lib/python3.8/site-packages/jedi/inference/value/dynamic_arrays.py\": 1724856450.8977554, \"/home/abhijit/.local/lib/python3.8/site-packages/jedi/inference/value/iterable.py\": 1724856450.8977554, \"/home/abhijit/.local/lib/python3.8/site-packages/jedi/inference/arguments.py\": 1724856450.8877554, \"/home/abhijit/.local/lib/python3.8/site-packages/jedi/inference/parser_cache.py\": 1724856450.8877554, \"/home/abhijit/.local/lib/python3.8/site-packages/jedi/inference/gradual/generics.py\": 1724856450.8977554, \"/home/abhijit/.local/lib/python3.8/site-packages/jedi/inference/value/function.py\": 1724856450.8977554, \"/home/abhijit/.local/lib/python3.8/site-packages/jedi/inference/value/klass.py\": 1724856450.8977554, \"/home/abhijit/.local/lib/python3.8/site-packages/jedi/inference/value/instance.py\": 1724856450.8977554, \"/home/abhijit/.local/lib/python3.8/site-packages/jedi/inference/value/__init__.py\": 1724856450.8977554, \"/home/abhijit/.local/lib/python3.8/site-packages/jedi/inference/gradual/base.py\": 1724856450.8877554, \"/home/abhijit/.local/lib/python3.8/site-packages/jedi/inference/gradual/type_var.py\": 1724856450.8977554, \"/home/abhijit/.local/lib/python3.8/site-packages/jedi/inference/gradual/typing.py\": 1724856450.8977554, \"/home/abhijit/.local/lib/python3.8/site-packages/jedi/inference/gradual/stub_value.py\": 1724856450.8977554, \"/home/abhijit/.local/lib/python3.8/site-packages/jedi/inference/gradual/typeshed.py\": 1724856450.8977554, \"/home/abhijit/.local/lib/python3.8/site-packages/jedi/_compatibility.py\": 1724856450.8777554, \"/home/abhijit/.local/lib/python3.8/site-packages/jedi/inference/compiled/subprocess/functions.py\": 1724856450.8877554, \"/home/abhijit/.local/lib/python3.8/site-packages/jedi/api/exceptions.py\": 1724856450.8877554, \"/home/abhijit/.local/lib/python3.8/site-packages/jedi/inference/compiled/subprocess/__init__.py\": 1724856450.8877554, \"/home/abhijit/.local/lib/python3.8/site-packages/jedi/inference/imports.py\": 1724856450.8877554, \"/home/abhijit/.local/lib/python3.8/site-packages/jedi/inference/param.py\": 1724856450.8877554, \"/home/abhijit/.local/lib/python3.8/site-packages/jedi/inference/gradual/annotation.py\": 1724856450.8877554, \"/home/abhijit/.local/lib/python3.8/site-packages/jedi/inference/value/decorator.py\": 1724856450.8977554, \"/home/abhijit/.local/lib/python3.8/site-packages/jedi/inference/syntax_tree.py\": 1724856450.8877554, \"/home/abhijit/.local/lib/python3.8/site-packages/jedi/inference/__init__.py\": 1724856450.8877554, \"/home/abhijit/.local/lib/python3.8/site-packages/jedi/inference/gradual/conversion.py\": 1724856450.8977554, \"/home/abhijit/.local/lib/python3.8/site-packages/jedi/inference/compiled/mixed.py\": 1724856450.8877554, \"/usr/lib/python3.8/pydoc_data/__init__.py\": 1722272530.0, \"/usr/lib/python3.8/pydoc_data/topics.py\": 1722272530.0, \"/home/abhijit/.local/lib/python3.8/site-packages/jedi/api/keywords.py\": 1724856450.8877554, \"/home/abhijit/.local/lib/python3.8/site-packages/jedi/api/completion_cache.py\": 1724856450.8877554, \"/home/abhijit/.local/lib/python3.8/site-packages/jedi/api/helpers.py\": 1724856450.8877554, \"/home/abhijit/.local/lib/python3.8/site-packages/jedi/api/classes.py\": 1724856450.8877554, \"/home/abhijit/.local/lib/python3.8/site-packages/jedi/api/interpreter.py\": 1724856450.8877554, \"/home/abhijit/.local/lib/python3.8/site-packages/jedi/api/strings.py\": 1724856450.8877554, \"/home/abhijit/.local/lib/python3.8/site-packages/jedi/api/file_name.py\": 1724856450.8877554, \"/home/abhijit/.local/lib/python3.8/site-packages/jedi/inference/docstring_utils.py\": 1724856450.8877554, \"/home/abhijit/.local/lib/python3.8/site-packages/jedi/api/completion.py\": 1724856450.8877554, \"/usr/lib/python3.8/filecmp.py\": 1722272530.0, \"/home/abhijit/.local/lib/python3.8/site-packages/jedi/api/environment.py\": 1724856450.8877554, \"/home/abhijit/.local/lib/python3.8/site-packages/jedi/inference/references.py\": 1724856450.8877554, \"/home/abhijit/.local/lib/python3.8/site-packages/jedi/api/project.py\": 1724856450.8877554, \"/home/abhijit/.local/lib/python3.8/site-packages/jedi/api/errors.py\": 1724856450.8877554, \"/home/abhijit/.local/lib/python3.8/site-packages/jedi/inference/value/namespace.py\": 1724856450.8977554, \"/home/abhijit/.local/lib/python3.8/site-packages/jedi/api/refactoring/__init__.py\": 1724856450.8877554, \"/home/abhijit/.local/lib/python3.8/site-packages/jedi/api/refactoring/extract.py\": 1724856450.8877554, \"/home/abhijit/.local/lib/python3.8/site-packages/jedi/inference/gradual/utils.py\": 1724856450.8977554, \"/home/abhijit/.local/lib/python3.8/site-packages/jedi/api/__init__.py\": 1724856450.8877554, \"/home/abhijit/.local/lib/python3.8/site-packages/jedi/plugins/stdlib.py\": 1724856450.8977554, \"/home/abhijit/.local/lib/python3.8/site-packages/jedi/plugins/flask.py\": 1724856450.8977554, \"/home/abhijit/.local/lib/python3.8/site-packages/jedi/plugins/pytest.py\": 1724856450.8977554, \"/home/abhijit/.local/lib/python3.8/site-packages/jedi/plugins/django.py\": 1724856450.8977554, \"/home/abhijit/.local/lib/python3.8/site-packages/jedi/plugins/registry.py\": 1724856450.8977554, \"/home/abhijit/.local/lib/python3.8/site-packages/jedi/__init__.py\": 1724856450.8777554, \"/home/abhijit/.local/lib/python3.8/site-packages/IPython/core/completer.py\": 1724856451.7177553, \"/home/abhijit/.local/lib/python3.8/site-packages/IPython/terminal/ptutils.py\": 1724856451.7377553, \"/home/abhijit/.local/lib/python3.8/site-packages/IPython/terminal/shortcuts/auto_match.py\": 1724856451.7477553, \"/home/abhijit/.local/lib/python3.8/site-packages/IPython/utils/tokenutil.py\": 1724856451.7577553, \"/home/abhijit/.local/lib/python3.8/site-packages/IPython/terminal/shortcuts/filters.py\": 1724856451.7477553, \"/home/abhijit/.local/lib/python3.8/site-packages/IPython/terminal/shortcuts/auto_suggest.py\": 1724856451.7477553, \"/home/abhijit/.local/lib/python3.8/site-packages/IPython/terminal/shortcuts/__init__.py\": 1724856451.7477553, \"/usr/lib/python3.8/concurrent/futures/thread.py\": 1722272530.0, \"/home/abhijit/.local/lib/python3.8/site-packages/IPython/terminal/debugger.py\": 1724856451.7377553, \"/home/abhijit/.local/lib/python3.8/site-packages/IPython/lib/clipboard.py\": 1724856451.7377553, \"/home/abhijit/.local/lib/python3.8/site-packages/IPython/terminal/magics.py\": 1724856451.7377553, \"/home/abhijit/.local/lib/python3.8/site-packages/IPython/terminal/pt_inputhooks/__init__.py\": 1724856451.7377553, \"/home/abhijit/.local/lib/python3.8/site-packages/IPython/terminal/prompts.py\": 1724856451.7377553, \"/home/abhijit/.local/lib/python3.8/site-packages/IPython/terminal/interactiveshell.py\": 1724856451.7377553, \"/home/abhijit/.local/lib/python3.8/site-packages/IPython/core/magics/auto.py\": 1724856451.7277553, \"/home/abhijit/.local/lib/python3.8/site-packages/IPython/core/magics/basic.py\": 1724856451.7277553, \"/usr/lib/python3.8/http/__init__.py\": 1722272530.0, \"/usr/lib/python3.8/email/errors.py\": 1722272530.0, \"/usr/lib/python3.8/email/quoprimime.py\": 1722272530.0, \"/usr/lib/python3.8/email/base64mime.py\": 1722272530.0, \"/usr/lib/python3.8/quopri.py\": 1722272530.0, \"/usr/lib/python3.8/email/encoders.py\": 1722272530.0, \"/usr/lib/python3.8/email/charset.py\": 1722272530.0, \"/usr/lib/python3.8/email/header.py\": 1722272530.0, \"/usr/lib/python3.8/email/_parseaddr.py\": 1722272530.0, \"/usr/lib/python3.8/email/utils.py\": 1722272530.0, \"/usr/lib/python3.8/email/_policybase.py\": 1722272530.0, \"/usr/lib/python3.8/email/feedparser.py\": 1722272530.0, \"/usr/lib/python3.8/email/parser.py\": 1722272530.0, \"/usr/lib/python3.8/uu.py\": 1722272530.0, \"/usr/lib/python3.8/email/_encoded_words.py\": 1722272530.0, \"/usr/lib/python3.8/email/iterators.py\": 1722272530.0, \"/usr/lib/python3.8/email/message.py\": 1722272530.0, \"/usr/lib/python3.8/http/client.py\": 1722272530.0, \"/usr/lib/python3.8/urllib/response.py\": 1722272530.0, \"/usr/lib/python3.8/urllib/error.py\": 1722272530.0, \"/usr/lib/python3.8/urllib/request.py\": 1722272530.0, \"/home/abhijit/.local/lib/python3.8/site-packages/IPython/utils/contexts.py\": 1724856451.7477553, \"/home/abhijit/.local/lib/python3.8/site-packages/IPython/core/magics/code.py\": 1724856451.7277553, \"/home/abhijit/.local/lib/python3.8/site-packages/IPython/core/magics/config.py\": 1724856451.7277553, \"/home/abhijit/.local/lib/python3.8/site-packages/IPython/core/magics/display.py\": 1724856451.7277553, \"/usr/lib/python3.8/lib-dynload/_lsprof.cpython-38-x86_64-linux-gnu.so\": 1722272530.0, \"/usr/lib/python3.8/profile.py\": 1722272530.0, \"/usr/lib/python3.8/cProfile.py\": 1722272530.0, \"/usr/lib/python3.8/pstats.py\": 1722272530.0, \"/usr/lib/python3.8/timeit.py\": 1722272530.0, \"/home/abhijit/.local/lib/python3.8/site-packages/IPython/utils/module_paths.py\": 1724856451.7577553, \"/home/abhijit/.local/lib/python3.8/site-packages/IPython/utils/timing.py\": 1724856451.7577553, \"/home/abhijit/.local/lib/python3.8/site-packages/IPython/core/magics/execution.py\": 1724856451.7277553, \"/home/abhijit/.local/lib/python3.8/site-packages/IPython/core/magics/extension.py\": 1724856451.7277553, \"/home/abhijit/.local/lib/python3.8/site-packages/IPython/core/magics/history.py\": 1724856451.7277553, \"/home/abhijit/.local/lib/python3.8/site-packages/IPython/core/magics/logging.py\": 1724856451.7277553, \"/home/abhijit/.local/lib/python3.8/site-packages/IPython/core/magics/namespace.py\": 1724856451.7277553, \"/home/abhijit/.local/lib/python3.8/site-packages/IPython/core/magics/osm.py\": 1724856451.7277553, \"/home/abhijit/.local/lib/python3.8/site-packages/IPython/core/magics/packaging.py\": 1724856451.7277553, \"/home/abhijit/.local/lib/python3.8/site-packages/IPython/core/pylabtools.py\": 1724856451.7177553, \"/home/abhijit/.local/lib/python3.8/site-packages/IPython/core/magics/pylab.py\": 1724856451.7277553, \"/home/abhijit/.local/lib/python3.8/site-packages/IPython/core/magics/script.py\": 1724856451.7277553, \"/home/abhijit/.local/lib/python3.8/site-packages/IPython/core/magics/__init__.py\": 1724856451.7277553, \"/home/abhijit/.local/lib/python3.8/site-packages/IPython/core/shellapp.py\": 1724856451.7177553, \"/home/abhijit/.local/lib/python3.8/site-packages/IPython/extensions/__init__.py\": 1724856451.7377553, \"/home/abhijit/.local/lib/python3.8/site-packages/IPython/extensions/storemagic.py\": 1724856451.7377553, \"/home/abhijit/.local/lib/python3.8/site-packages/IPython/terminal/ipapp.py\": 1724856451.7377553, \"/home/abhijit/.local/lib/python3.8/site-packages/IPython/terminal/embed.py\": 1724856451.7377553, \"/home/abhijit/.local/lib/python3.8/site-packages/IPython/utils/frame.py\": 1724856451.7477553, \"/home/abhijit/.local/lib/python3.8/site-packages/IPython/__init__.py\": 1724856451.7077553, \"/home/abhijit/.local/lib/python3.8/site-packages/ipykernel/control.py\": 1724856453.777755, \"/home/abhijit/.local/lib/python3.8/site-packages/ipykernel/heartbeat.py\": 1724856453.777755, \"/home/abhijit/.local/lib/python3.8/site-packages/ipykernel/iostream.py\": 1724856453.777755, \"/home/abhijit/.local/lib/python3.8/site-packages/comm/base_comm.py\": 1724856453.6177552, \"/home/abhijit/.local/lib/python3.8/site-packages/comm/__init__.py\": 1724856453.6177552, \"/home/abhijit/.local/lib/python3.8/site-packages/ipykernel/jsonutil.py\": 1724856453.777755, \"/home/abhijit/.local/lib/python3.8/site-packages/psutil/_common.py\": 1724856453.6277552, \"/home/abhijit/.local/lib/python3.8/site-packages/psutil/_compat.py\": 1724856453.6277552, \"/home/abhijit/.local/lib/python3.8/site-packages/psutil/_psposix.py\": 1724856453.6277552, \"/home/abhijit/.local/lib/python3.8/site-packages/psutil/_psutil_linux.abi3.so\": 1724856453.6277552, \"/home/abhijit/.local/lib/python3.8/site-packages/psutil/_psutil_posix.abi3.so\": 1724856453.6277552, \"/home/abhijit/.local/lib/python3.8/site-packages/psutil/_pslinux.py\": 1724856453.6277552, \"/home/abhijit/.local/lib/python3.8/site-packages/psutil/__init__.py\": 1724856453.6277552, \"/home/abhijit/.local/lib/python3.8/site-packages/tornado/gen.py\": 1724856452.3977551, \"/home/abhijit/.local/lib/python3.8/site-packages/tornado/locks.py\": 1724856452.3977551, \"/home/abhijit/.local/lib/python3.8/site-packages/tornado/queues.py\": 1724856452.3977551, \"/home/abhijit/.local/lib/python3.8/site-packages/ipykernel/kernelbase.py\": 1724856453.7877553, \"/home/abhijit/.local/lib/python3.8/site-packages/ipykernel/comm/comm.py\": 1724856453.7877553, \"/home/abhijit/.local/lib/python3.8/site-packages/ipykernel/comm/manager.py\": 1724856453.7877553, \"/home/abhijit/.local/lib/python3.8/site-packages/ipykernel/comm/__init__.py\": 1724856453.7877553, \"/home/abhijit/.local/lib/python3.8/site-packages/ipykernel/compiler.py\": 1724856453.777755, \"/home/abhijit/.local/lib/python3.8/site-packages/packaging/__init__.py\": 1724856453.5777552, \"/home/abhijit/.local/lib/python3.8/site-packages/packaging/_structures.py\": 1724856453.5777552, \"/home/abhijit/.local/lib/python3.8/site-packages/packaging/version.py\": 1724856453.5777552, \"/home/abhijit/.local/lib/python3.8/site-packages/ipykernel/eventloops.py\": 1724856453.777755, \"/home/abhijit/.local/lib/python3.8/site-packages/IPython/core/payloadpage.py\": 1724856451.7177553, \"/home/abhijit/.local/lib/python3.8/site-packages/ipykernel/displayhook.py\": 1724856453.777755, \"/home/abhijit/.local/lib/python3.8/site-packages/ipykernel/zmqshell.py\": 1724856453.7877553, \"/home/abhijit/.local/lib/python3.8/site-packages/ipykernel/ipkernel.py\": 1724856453.777755, \"/home/abhijit/.local/lib/python3.8/site-packages/ipykernel/parentpoller.py\": 1724856453.7877553, \"/home/abhijit/.local/lib/python3.8/site-packages/ipykernel/kernelapp.py\": 1724856453.777755, \"/usr/lib/python3/dist-packages/netifaces.cpython-38-x86_64-linux-gnu.so\": 1582019073.0, \"/home/abhijit/.local/lib/python3.8/site-packages/tornado/platform/__init__.py\": 1724856452.4077551, \"/home/abhijit/.local/lib/python3.8/site-packages/tornado/platform/asyncio.py\": 1724856452.4077551, \"/home/abhijit/.local/lib/python3.8/site-packages/debugpy/_version.py\": 1724856452.7277553, \"/home/abhijit/.local/lib/python3.8/site-packages/debugpy/public_api.py\": 1724856452.7277553, \"/home/abhijit/.local/lib/python3.8/site-packages/debugpy/__init__.py\": 1724856452.7277553, \"/home/abhijit/.local/lib/python3.8/site-packages/debugpy/_vendored/_util.py\": 1724856452.7277553, \"/home/abhijit/.local/lib/python3.8/site-packages/debugpy/_vendored/__init__.py\": 1724856452.7277553, \"/home/abhijit/.local/lib/python3.8/site-packages/debugpy/_vendored/pydevd/_pydevd_bundle/__init__.py\": 1724856452.7877553, \"/usr/lib/python3.8/encodings/ascii.py\": 1722272530.0, \"/usr/lib/python3.8/stringprep.py\": 1722272530.0, \"/usr/lib/python3.8/encodings/idna.py\": 1722272530.0, \"/home/abhijit/.local/lib/python3.8/site-packages/debugpy/_vendored/pydevd/_pydevd_bundle/pydevd_vm_type.py\": 1724856452.7877553, \"/home/abhijit/.local/lib/python3.8/site-packages/debugpy/_vendored/pydevd/_pydev_bundle/__init__.py\": 1724856452.8377552, \"/usr/lib/python3.8/xmlrpc/__init__.py\": 1722272530.0, \"/usr/lib/python3.8/gzip.py\": 1722272530.0, \"/usr/lib/python3.8/xmlrpc/client.py\": 1722272530.0, \"/usr/lib/python3.8/http/server.py\": 1722272530.0, \"/usr/lib/python3.8/xmlrpc/server.py\": 1722272530.0, \"/home/abhijit/.local/lib/python3.8/site-packages/debugpy/_vendored/pydevd/_pydev_bundle/_pydev_saved_modules.py\": 1724856452.8377552, \"/home/abhijit/.local/lib/python3.8/site-packages/debugpy/_vendored/pydevd/_pydevd_bundle/pydevd_constants.py\": 1724856452.8177552, \"/home/abhijit/.local/lib/python3.8/site-packages/debugpy/_vendored/pydevd/_pydev_runfiles/__init__.py\": 1724856452.8377552, \"/home/abhijit/.local/lib/python3.8/site-packages/debugpy/_vendored/pydevd/_pydevd_frame_eval/__init__.py\": 1724856452.7677553, \"/home/abhijit/.local/lib/python3.8/site-packages/debugpy/_vendored/pydevd/pydev_ipython/__init__.py\": 1724856452.8377552, \"/home/abhijit/.local/lib/python3.8/site-packages/debugpy/_vendored/pydevd/pydevd_plugins/__init__.py\": 1724856452.8377552, \"/home/abhijit/.local/lib/python3.8/site-packages/debugpy/_vendored/pydevd/_pydev_bundle/pydev_log.py\": 1724856452.8477552, \"/home/abhijit/.local/lib/python3.8/site-packages/debugpy/_vendored/pydevd/_pydev_bundle/_pydev_filesystem_encoding.py\": 1724856452.8377552, \"/home/abhijit/.local/lib/python3.8/site-packages/debugpy/_vendored/pydevd/_pydevd_bundle/pydevd_comm_constants.py\": 1724856452.8277552, \"/home/abhijit/.local/lib/python3.8/site-packages/debugpy/_vendored/pydevd/pydevd_file_utils.py\": 1724856452.7377553, \"/home/abhijit/.local/lib/python3.8/site-packages/debugpy/_vendored/pydevd/_pydev_bundle/_pydev_execfile.py\": 1724856452.8377552, \"/home/abhijit/.local/lib/python3.8/site-packages/debugpy/_vendored/pydevd/_pydevd_bundle/pydevd_exec2.py\": 1724856452.7877553, \"/home/abhijit/.local/lib/python3.8/site-packages/debugpy/_vendored/pydevd/_pydev_bundle/pydev_imports.py\": 1724856452.8377552, \"/home/abhijit/.local/lib/python3.8/site-packages/debugpy/_vendored/pydevd/_pydev_bundle/pydev_is_thread_alive.py\": 1724856452.8477552, \"/home/abhijit/.local/lib/python3.8/site-packages/debugpy/_vendored/pydevd/_pydev_bundle/pydev_override.py\": 1724856452.8477552, \"/home/abhijit/.local/lib/python3.8/site-packages/debugpy/_vendored/pydevd/pydevd_plugins/extensions/__init__.py\": 1724856452.8377552, \"/home/abhijit/.local/lib/python3.8/site-packages/debugpy/_vendored/pydevd/_pydevd_bundle/pydevd_extension_utils.py\": 1724856452.8277552, \"/home/abhijit/.local/lib/python3.8/site-packages/debugpy/_vendored/pydevd/_pydevd_bundle/pydevd_frame_utils.py\": 1724856452.8177552, \"/home/abhijit/.local/lib/python3.8/site-packages/debugpy/_vendored/pydevd/_pydevd_bundle/pydevd_filtering.py\": 1724856452.8177552, \"/home/abhijit/.local/lib/python3.8/site-packages/debugpy/_vendored/pydevd/_pydevd_bundle/pydevd_io.py\": 1724856452.8177552, \"/home/abhijit/.local/lib/python3.8/site-packages/debugpy/_vendored/pydevd/_pydevd_bundle/pydevd_defaults.py\": 1724856452.7877553, \"/home/abhijit/.local/lib/python3.8/site-packages/debugpy/_vendored/pydevd/_pydevd_bundle/pydevd_utils.py\": 1724856452.8277552, \"/home/abhijit/.local/lib/python3.8/site-packages/debugpy/_vendored/pydevd/_pydevd_bundle/pydevd_runpy.py\": 1724856452.7877553, \"/home/abhijit/.local/lib/python3.8/site-packages/debugpy/_vendored/pydevd/_pydev_bundle/_pydev_tipper_common.py\": 1724856452.8377552, \"/home/abhijit/.local/lib/python3.8/site-packages/debugpy/_vendored/pydevd/_pydev_bundle/_pydev_imports_tipper.py\": 1724856452.8377552, \"/home/abhijit/.local/lib/python3.8/site-packages/debugpy/_vendored/pydevd/_pydev_bundle/_pydev_calltip_util.py\": 1724856452.8377552, \"/home/abhijit/.local/lib/python3.8/site-packages/debugpy/_vendored/pydevd/_pydevd_bundle/pydevd_safe_repr.py\": 1724856452.7877553, \"/home/abhijit/.local/lib/python3.8/site-packages/debugpy/_vendored/pydevd/_pydevd_bundle/pydevd_resolver.py\": 1724856452.7877553, \"/home/abhijit/.local/lib/python3.8/site-packages/debugpy/_vendored/pydevd/_pydevd_bundle/pydevd_extension_api.py\": 1724856452.8277552, \"/home/abhijit/.local/lib/python3.8/site-packages/debugpy/_vendored/pydevd/_pydevd_bundle/pydevd_xml.py\": 1724856452.8277552, \"/home/abhijit/.local/lib/python3.8/site-packages/debugpy/_vendored/pydevd/_pydevd_bundle/pydevd_dont_trace.py\": 1724856452.7877553, \"/home/abhijit/.local/lib/python3.8/site-packages/debugpy/_vendored/pydevd/_pydevd_frame_eval/vendored/__init__.py\": 1724856452.7777553, \"/home/abhijit/.local/lib/python3.8/site-packages/debugpy/_vendored/pydevd/_pydevd_frame_eval/vendored/bytecode/flags.py\": 1724856452.7777553, \"/home/abhijit/.local/lib/python3.8/site-packages/debugpy/_vendored/pydevd/_pydevd_frame_eval/vendored/bytecode/instr.py\": 1724856452.7777553, \"/home/abhijit/.local/lib/python3.8/site-packages/debugpy/_vendored/pydevd/_pydevd_frame_eval/vendored/bytecode/bytecode.py\": 1724856452.7777553, \"/home/abhijit/.local/lib/python3.8/site-packages/debugpy/_vendored/pydevd/_pydevd_frame_eval/vendored/bytecode/concrete.py\": 1724856452.7777553, \"/home/abhijit/.local/lib/python3.8/site-packages/debugpy/_vendored/pydevd/_pydevd_frame_eval/vendored/bytecode/cfg.py\": 1724856452.7777553, \"/home/abhijit/.local/lib/python3.8/site-packages/debugpy/_vendored/pydevd/_pydevd_frame_eval/vendored/bytecode/__init__.py\": 1724856452.7777553, \"/home/abhijit/.local/lib/python3.8/site-packages/debugpy/_vendored/pydevd/_pydevd_bundle/pydevd_bytecode_utils.py\": 1724856452.7877553, \"/home/abhijit/.local/lib/python3.8/site-packages/debugpy/_vendored/pydevd/_pydevd_bundle/pydevd_cython.cpython-38-x86_64-linux-gnu.so\": 1724856452.8077552, \"/home/abhijit/.local/lib/python3.8/site-packages/debugpy/_vendored/pydevd/_pydevd_bundle/pydevd_cython_wrapper.py\": 1724856452.8177552, \"/home/abhijit/.local/lib/python3.8/site-packages/debugpy/_vendored/pydevd/_pydevd_bundle/pydevd_additional_thread_info.py\": 1724856452.8177552, \"/home/abhijit/.local/lib/python3.8/site-packages/debugpy/_vendored/pydevd/_pydevd_bundle/pydevd_thread_lifecycle.py\": 1724856452.8177552, \"/home/abhijit/.local/lib/python3.8/site-packages/debugpy/_vendored/pydevd/_pydevd_bundle/pydevd_save_locals.py\": 1724856452.7877553, \"/home/abhijit/.local/lib/python3.8/site-packages/debugpy/_vendored/pydevd/_pydev_bundle/pydev_monkey.py\": 1724856452.8477552, \"/home/abhijit/.local/lib/python3.8/site-packages/debugpy/_vendored/pydevd/pydevd_tracing.py\": 1724856452.7377553, \"/home/abhijit/.local/lib/python3.8/site-packages/debugpy/_vendored/pydevd/_pydevd_bundle/pydevd_collect_bytecode_info.py\": 1724856452.7877553, \"/home/abhijit/.local/lib/python3.8/site-packages/debugpy/_vendored/pydevd/_pydevd_bundle/pydevd_daemon_thread.py\": 1724856452.8177552, \"/home/abhijit/.local/lib/python3.8/site-packages/debugpy/_vendored/pydevd/_pydevd_bundle/pydevd_timeout.py\": 1724856452.7877553, \"/home/abhijit/.local/lib/python3.8/site-packages/debugpy/_vendored/pydevd/_pydevd_bundle/pydevd_vars.py\": 1724856452.8177552, \"/home/abhijit/.local/lib/python3.8/site-packages/debugpy/_vendored/pydevd/_pydev_bundle/pydev_console_utils.py\": 1724856452.8477552, \"/home/abhijit/.local/lib/python3.8/site-packages/debugpy/_vendored/pydevd/_pydevd_bundle/pydevd_import_class.py\": 1724856452.8177552, \"/home/abhijit/.local/lib/python3.8/site-packages/debugpy/_vendored/pydevd/_pydevd_bundle/pydevd_breakpoints.py\": 1724856452.8277552, \"/home/abhijit/.local/lib/python3.8/site-packages/debugpy/_vendored/pydevd/_pydevd_bundle/pydevd_custom_frames.py\": 1724856452.8177552, \"/home/abhijit/.local/lib/python3.8/site-packages/debugpy/_vendored/pydevd/_pydevd_bundle/pydevd_dont_trace_files.py\": 1724856452.7877553, \"/home/abhijit/.local/lib/python3.8/site-packages/debugpy/_vendored/pydevd/_pydevd_bundle/pydevd_net_command.py\": 1724856452.8277552, \"/home/abhijit/.local/lib/python3.8/site-packages/debugpy/_vendored/pydevd/_pydevd_bundle/pydevconsole_code.py\": 1724856452.8177552, \"/home/abhijit/.local/lib/python3.8/site-packages/debugpy/_vendored/pydevd/_pydev_bundle/pydev_umd.py\": 1724856452.8377552, \"/home/abhijit/.local/lib/python3.8/site-packages/debugpy/_vendored/pydevd/pydevconsole.py\": 1724856452.7377553, \"/home/abhijit/.local/lib/python3.8/site-packages/debugpy/_vendored/pydevd/_pydev_bundle/_pydev_completer.py\": 1724856452.8477552, \"/home/abhijit/.local/lib/python3.8/site-packages/debugpy/_vendored/pydevd/_pydevd_bundle/pydevd_net_command_factory_xml.py\": 1724856452.8277552, \"/home/abhijit/.local/lib/python3.8/site-packages/debugpy/_vendored/pydevd/_pydevd_bundle/pydevd_frame.py\": 1724856452.7877553, \"/home/abhijit/.local/lib/python3.8/site-packages/debugpy/_vendored/pydevd/_pydevd_bundle/pydevd_additional_thread_info_regular.py\": 1724856452.7877553, \"/home/abhijit/.local/lib/python3.8/site-packages/debugpy/_vendored/pydevd/_pydevd_bundle/pydevd_trace_dispatch.py\": 1724856452.8177552, \"/home/abhijit/.local/lib/python3.8/site-packages/debugpy/_vendored/pydevd/_pydevd_frame_eval/pydevd_frame_eval_main.py\": 1724856452.7677553, \"/home/abhijit/.local/lib/python3.8/site-packages/debugpy/_vendored/pydevd/_pydevd_bundle/pydevd_source_mapping.py\": 1724856452.8177552, \"/home/abhijit/.local/lib/python3.8/site-packages/debugpy/_vendored/pydevd/_pydevd_bundle/pydevd_concurrency_analyser/__init__.py\": 1724856452.8377552, \"/home/abhijit/.local/lib/python3.8/site-packages/debugpy/_vendored/pydevd/_pydevd_bundle/pydevd_concurrency_analyser/pydevd_thread_wrappers.py\": 1724856452.8277552, \"/home/abhijit/.local/lib/python3.8/site-packages/debugpy/_vendored/pydevd/_pydevd_bundle/pydevd_concurrency_analyser/pydevd_concurrency_logger.py\": 1724856452.8377552, \"/home/abhijit/.local/lib/python3.8/site-packages/debugpy/_vendored/pydevd/_pydevd_bundle/_debug_adapter/__init__.py\": 1724856452.8277552, \"/home/abhijit/.local/lib/python3.8/site-packages/debugpy/_vendored/pydevd/_pydevd_bundle/_debug_adapter/pydevd_schema_log.py\": 1724856452.8277552, \"/home/abhijit/.local/lib/python3.8/site-packages/debugpy/_vendored/pydevd/_pydevd_bundle/_debug_adapter/pydevd_base_schema.py\": 1724856452.8277552, \"/home/abhijit/.local/lib/python3.8/site-packages/debugpy/_vendored/pydevd/_pydevd_bundle/_debug_adapter/pydevd_schema.py\": 1724856452.8277552, \"/home/abhijit/.local/lib/python3.8/site-packages/debugpy/_vendored/pydevd/_pydevd_bundle/pydevd_reload.py\": 1724856452.8177552, \"/home/abhijit/.local/lib/python3.8/site-packages/debugpy/_vendored/pydevd/_pydev_bundle/fsnotify/__init__.py\": 1724856452.8477552, \"/home/abhijit/.local/lib/python3.8/site-packages/debugpy/_vendored/pydevd/_pydevd_bundle/pydevd_console.py\": 1724856452.8177552, \"/home/abhijit/.local/lib/python3.8/site-packages/debugpy/_vendored/pydevd/_pydevd_bundle/pydevd_comm.py\": 1724856452.7877553, \"/home/abhijit/.local/lib/python3.8/site-packages/debugpy/_vendored/pydevd/_pydevd_bundle/pydevd_net_command_factory_json.py\": 1724856452.7877553, \"/home/abhijit/.local/lib/python3.8/site-packages/debugpy/_vendored/pydevd/_pydevd_bundle/pydevd_api.py\": 1724856452.8277552, \"/home/abhijit/.local/lib/python3.8/site-packages/debugpy/_vendored/pydevd/_pydevd_bundle/pydevd_json_debug_options.py\": 1724856452.7877553, \"/home/abhijit/.local/lib/python3.8/site-packages/debugpy/_vendored/pydevd/_pydevd_bundle/pydevd_process_net_command_json.py\": 1724856452.8177552, \"/home/abhijit/.local/lib/python3.8/site-packages/debugpy/_vendored/pydevd/_pydevd_bundle/pydevd_traceproperty.py\": 1724856452.8177552, \"/home/abhijit/.local/lib/python3.8/site-packages/debugpy/_vendored/pydevd/_pydevd_bundle/pydevd_process_net_command.py\": 1724856452.8177552, \"/home/abhijit/.local/lib/python3.8/site-packages/debugpy/_vendored/pydevd/_pydevd_bundle/pydevd_suspended_frames.py\": 1724856452.8277552, \"/home/abhijit/.local/lib/python3.8/site-packages/debugpy/_vendored/pydevd/_pydevd_bundle/pydevd_trace_api.py\": 1724856452.8277552, \"/home/abhijit/.local/lib/python3.8/site-packages/debugpy/_vendored/pydevd/pydevd_plugins/pydevd_line_validation.py\": 1724856452.8377552, \"/home/abhijit/.local/lib/python3.8/site-packages/debugpy/_vendored/pydevd/pydevd_plugins/django_debug.py\": 1724856452.8377552, \"/home/abhijit/.local/lib/python3.8/site-packages/debugpy/_vendored/pydevd/pydevd_plugins/jinja2_debug.py\": 1724856452.8377552, \"/home/abhijit/.local/lib/python3.8/site-packages/debugpy/_vendored/pydevd/_pydevd_bundle/pydevd_plugin_utils.py\": 1724856452.7877553, \"/home/abhijit/.local/lib/python3.8/site-packages/debugpy/_vendored/pydevd/pydevd_plugins/extensions/types/__init__.py\": 1724856452.8377552, \"/home/abhijit/.local/lib/python3.8/site-packages/debugpy/_vendored/pydevd/pydevd_plugins/extensions/types/pydevd_helpers.py\": 1724856452.8377552, \"/home/abhijit/.local/lib/python3.8/site-packages/debugpy/_vendored/pydevd/pydevd_plugins/extensions/types/pydevd_plugin_numpy_types.py\": 1724856452.8377552, \"/home/abhijit/.local/lib/python3.8/site-packages/debugpy/_vendored/pydevd/pydevd_plugins/extensions/types/pydevd_plugin_pandas_types.py\": 1724856452.8377552, \"/home/abhijit/.local/lib/python3.8/site-packages/debugpy/_vendored/pydevd/pydevd_plugins/extensions/types/pydevd_plugins_django_form_str.py\": 1724856452.8377552, \"/home/abhijit/.local/lib/python3.8/site-packages/debugpy/_vendored/pydevd/pydevd.py\": 1724856452.7377553, \"/home/abhijit/.local/lib/python3.8/site-packages/debugpy/_vendored/force_pydevd.py\": 1724856452.7277553, \"/home/abhijit/.local/lib/python3.8/site-packages/debugpy/server/__init__.py\": 1724856452.8477552, \"/home/abhijit/.local/lib/python3.8/site-packages/debugpy/adapter/__init__.py\": 1724856452.8477552, \"/home/abhijit/.local/lib/python3.8/site-packages/debugpy/common/__init__.py\": 1724856452.8477552, \"/home/abhijit/.local/lib/python3.8/site-packages/debugpy/common/json.py\": 1724856452.8477552, \"/home/abhijit/.local/lib/python3.8/site-packages/debugpy/common/timestamp.py\": 1724856452.8477552, \"/home/abhijit/.local/lib/python3.8/site-packages/debugpy/common/util.py\": 1724856452.8477552, \"/home/abhijit/.local/lib/python3.8/site-packages/debugpy/common/log.py\": 1724856452.8477552, \"/home/abhijit/.local/lib/python3.8/site-packages/debugpy/common/sockets.py\": 1724856452.8477552, \"/home/abhijit/.local/lib/python3.8/site-packages/debugpy/server/api.py\": 1724856452.8477552, \"/home/abhijit/.local/lib/python3.8/site-packages/ipykernel/debugger.py\": 1724856453.777755, \"/home/abhijit/.local/lib/python3.8/site-packages/IPython/core/completerlib.py\": 1724856451.7177553, \"/home/abhijit/.local/lib/python3.8/site-packages/zmq/utils/garbage.py\": 1724856452.1977553, \"/usr/lib/python3.8/xml/etree/__init__.py\": 1722272530.0, \"/usr/lib/python3.8/xml/etree/ElementPath.py\": 1722272530.0, \"/usr/lib/python3.8/xml/etree/ElementTree.py\": 1722272530.0, \"/home/abhijit/.local/lib/python3.8/site-packages/nltk/internals.py\": 1724856560.1377568, \"/home/abhijit/.local/lib/python3.8/site-packages/nltk/metrics/distance.py\": 1724856560.1677568, \"/home/abhijit/.local/lib/python3.8/site-packages/nltk/probability.py\": 1724856560.1377568, \"/home/abhijit/.local/lib/python3.8/site-packages/nltk/metrics/agreement.py\": 1724856560.1677568, \"/home/abhijit/.local/lib/python3.8/site-packages/nltk/metrics/aline.py\": 1724856560.1677568, \"/home/abhijit/.local/lib/python3.8/site-packages/nltk/metrics/association.py\": 1724856560.1677568, \"/home/abhijit/.local/lib/python3.8/site-packages/nltk/metrics/confusionmatrix.py\": 1724856560.1677568, \"/home/abhijit/.local/lib/python3.8/site-packages/nltk/metrics/paice.py\": 1724856560.1677568, \"/home/abhijit/.local/lib/python3.8/site-packages/nltk/collections.py\": 1724856560.1377568, \"/home/abhijit/.local/lib/python3.8/site-packages/nltk/util.py\": 1724856560.1377568, \"/home/abhijit/.local/lib/python3.8/site-packages/nltk/metrics/scores.py\": 1724856560.1677568, \"/home/abhijit/.local/lib/python3.8/site-packages/nltk/metrics/segmentation.py\": 1724856560.1677568, \"/home/abhijit/.local/lib/python3.8/site-packages/nltk/metrics/spearman.py\": 1724856560.1677568, \"/home/abhijit/.local/lib/python3.8/site-packages/nltk/metrics/__init__.py\": 1724856560.1677568, \"/home/abhijit/.local/lib/python3.8/site-packages/nltk/collocations.py\": 1724856560.1377568, \"/home/abhijit/.local/lib/python3.8/site-packages/nltk/decorators.py\": 1724856560.1377568, \"/usr/lib/python3.8/optparse.py\": 1722272530.0, \"/home/abhijit/.local/lib/python3.8/site-packages/nltk/sem/logic.py\": 1724856560.1777568, \"/home/abhijit/.local/lib/python3.8/site-packages/nltk/sem/drt.py\": 1724856560.1777568, \"/home/abhijit/.local/lib/python3.8/site-packages/nltk/sem/boxer.py\": 1724856560.1777568, \"/home/abhijit/.local/lib/python3.8/site-packages/nltk/sem/evaluate.py\": 1724856560.1777568, \"/home/abhijit/.local/lib/python3.8/site-packages/nltk/sem/lfg.py\": 1724856560.1777568, \"/home/abhijit/.local/lib/python3.8/site-packages/nltk/sem/relextract.py\": 1724856560.1777568, \"/home/abhijit/.local/lib/python3.8/site-packages/nltk/sem/skolemize.py\": 1724856560.1777568, \"/home/abhijit/.local/lib/python3.8/site-packages/nltk/sem/util.py\": 1724856560.1777568, \"/home/abhijit/.local/lib/python3.8/site-packages/nltk/sem/__init__.py\": 1724856560.1777568, \"/home/abhijit/.local/lib/python3.8/site-packages/nltk/featstruct.py\": 1724856560.1377568, \"/home/abhijit/.local/lib/python3.8/site-packages/nltk/grammar.py\": 1724856560.1377568, \"/home/abhijit/.local/lib/python3.8/site-packages/nltk/lm/counter.py\": 1724856560.1677568, \"/home/abhijit/.local/lib/python3.8/site-packages/nltk/lm/util.py\": 1724856560.1677568, \"/home/abhijit/.local/lib/python3.8/site-packages/nltk/lm/vocabulary.py\": 1724856560.1677568, \"/home/abhijit/.local/lib/python3.8/site-packages/nltk/lm/api.py\": 1724856560.1677568, \"/home/abhijit/.local/lib/python3.8/site-packages/nltk/lm/smoothing.py\": 1724856560.1677568, \"/home/abhijit/.local/lib/python3.8/site-packages/nltk/lm/models.py\": 1724856560.1677568, \"/home/abhijit/.local/lib/python3.8/site-packages/nltk/lm/__init__.py\": 1724856560.1677568, \"/home/abhijit/.local/lib/python3.8/site-packages/nltk/lm/preprocessing.py\": 1724856560.1677568, \"/home/abhijit/.local/lib/python3.8/site-packages/nltk/data.py\": 1724856560.1377568, \"/home/abhijit/.local/lib/python3.8/site-packages/regex/_regex.cpython-38-x86_64-linux-gnu.so\": 1724856559.7877567, \"/home/abhijit/.local/lib/python3.8/site-packages/regex/_regex_core.py\": 1724856559.7677567, \"/home/abhijit/.local/lib/python3.8/site-packages/regex/regex.py\": 1724856559.7877567, \"/home/abhijit/.local/lib/python3.8/site-packages/regex/__init__.py\": 1724856559.7877567, \"/usr/lib/python3.8/xml/sax/handler.py\": 1722272530.0, \"/usr/lib/python3.8/xml/sax/_exceptions.py\": 1722272530.0, \"/usr/lib/python3.8/xml/sax/xmlreader.py\": 1722272530.0, \"/usr/lib/python3.8/xml/sax/__init__.py\": 1722272530.0, \"/usr/lib/python3.8/xml/sax/saxutils.py\": 1722272530.0, \"/home/abhijit/.local/lib/python3.8/site-packages/nltk/tokenize/util.py\": 1724856560.2077568, \"/home/abhijit/.local/lib/python3.8/site-packages/nltk/tokenize/api.py\": 1724856560.2077568, \"/home/abhijit/.local/lib/python3.8/site-packages/nltk/tokenize/casual.py\": 1724856560.2077568, \"/home/abhijit/.local/lib/python3.8/site-packages/nltk/tokenize/destructive.py\": 1724856560.2077568, \"/home/abhijit/.local/lib/python3.8/site-packages/nltk/tokenize/legality_principle.py\": 1724856560.2077568, \"/home/abhijit/.local/lib/python3.8/site-packages/nltk/tokenize/mwe.py\": 1724856560.2077568, \"/home/abhijit/.local/lib/python3.8/site-packages/nltk/tokenize/punkt.py\": 1724856560.2077568, \"/home/abhijit/.local/lib/python3.8/site-packages/nltk/tokenize/regexp.py\": 1724856560.2077568, \"/home/abhijit/.local/lib/python3.8/site-packages/nltk/tokenize/repp.py\": 1724856560.2077568, \"/home/abhijit/.local/lib/python3.8/site-packages/nltk/tokenize/sexpr.py\": 1724856560.2077568, \"/home/abhijit/.local/lib/python3.8/site-packages/nltk/tokenize/simple.py\": 1724856560.2077568, \"/home/abhijit/.local/lib/python3.8/site-packages/nltk/tokenize/sonority_sequencing.py\": 1724856560.2077568, \"/home/abhijit/.local/lib/python3.8/site-packages/nltk/tokenize/stanford_segmenter.py\": 1724856560.2077568, \"/home/abhijit/.local/lib/python3.8/site-packages/nltk/tokenize/texttiling.py\": 1724856560.2077568, \"/home/abhijit/.local/lib/python3.8/site-packages/nltk/tokenize/toktok.py\": 1724856560.2077568, \"/home/abhijit/.local/lib/python3.8/site-packages/nltk/tokenize/treebank.py\": 1724856560.2077568, \"/home/abhijit/.local/lib/python3.8/site-packages/nltk/tokenize/__init__.py\": 1724856560.2077568, \"/home/abhijit/.local/lib/python3.8/site-packages/nltk/text.py\": 1724856560.1377568, \"/home/abhijit/.local/lib/python3.8/site-packages/nltk/jsontags.py\": 1724856560.1377568, \"/home/abhijit/.local/lib/python3.8/site-packages/nltk/tag/util.py\": 1724856560.1877568, \"/home/abhijit/.local/lib/python3.8/site-packages/nltk/tag/api.py\": 1724856560.1877568, \"/home/abhijit/.local/lib/python3.8/site-packages/nltk/classify/api.py\": 1724856560.1477568, \"/home/abhijit/.local/lib/python3.8/site-packages/nltk/classify/decisiontree.py\": 1724856560.1477568, \"/home/abhijit/.local/lib/python3.8/site-packages/nltk/classify/megam.py\": 1724856560.1477568, \"/home/abhijit/.local/lib/python3.8/site-packages/nltk/classify/tadm.py\": 1724856560.1477568, \"/home/abhijit/.local/lib/python3.8/site-packages/nltk/classify/util.py\": 1724856560.1477568, \"/home/abhijit/.local/lib/python3.8/site-packages/nltk/classify/maxent.py\": 1724856560.1477568, \"/home/abhijit/.local/lib/python3.8/site-packages/nltk/classify/naivebayes.py\": 1724856560.1477568, \"/home/abhijit/.local/lib/python3.8/site-packages/nltk/classify/positivenaivebayes.py\": 1724856560.1477568, \"/home/abhijit/.local/lib/python3.8/site-packages/nltk/classify/rte_classify.py\": 1724856560.1477568, \"/home/abhijit/.local/lib/python3.8/site-packages/nltk/classify/scikitlearn.py\": 1724856560.1477568, \"/home/abhijit/.local/lib/python3.8/site-packages/nltk/classify/senna.py\": 1724856560.1477568, \"/home/abhijit/.local/lib/python3.8/site-packages/nltk/classify/textcat.py\": 1724856560.1477568, \"/home/abhijit/.local/lib/python3.8/site-packages/nltk/classify/weka.py\": 1724856560.1477568, \"/home/abhijit/.local/lib/python3.8/site-packages/nltk/classify/__init__.py\": 1724856560.1477568, \"/home/abhijit/.local/lib/python3.8/site-packages/nltk/tag/sequential.py\": 1724856560.1877568, \"/home/abhijit/.local/lib/python3.8/site-packages/nltk/tbl/feature.py\": 1724856560.1877568, \"/home/abhijit/.local/lib/python3.8/site-packages/nltk/tbl/rule.py\": 1724856560.1877568, \"/home/abhijit/.local/lib/python3.8/site-packages/nltk/tbl/template.py\": 1724856560.1877568, \"/home/abhijit/.local/lib/python3.8/site-packages/nltk/tbl/erroranalysis.py\": 1724856560.1877568, \"/home/abhijit/.local/lib/python3.8/site-packages/nltk/tbl/__init__.py\": 1724856560.1877568, \"/home/abhijit/.local/lib/python3.8/site-packages/nltk/tag/brill.py\": 1724856560.1877568, \"/home/abhijit/.local/lib/python3.8/site-packages/nltk/tag/brill_trainer.py\": 1724856560.1877568, \"/home/abhijit/.local/lib/python3.8/site-packages/nltk/tag/tnt.py\": 1724856560.1877568, \"/home/abhijit/.local/lib/python3.8/site-packages/nltk/tag/hunpos.py\": 1724856560.1877568, \"/home/abhijit/.local/lib/python3.8/site-packages/nltk/tag/stanford.py\": 1724856560.1877568, \"/home/abhijit/.local/lib/python3.8/site-packages/nltk/tag/hmm.py\": 1724856560.1877568, \"/home/abhijit/.local/lib/python3.8/site-packages/nltk/tag/senna.py\": 1724856560.1877568, \"/home/abhijit/.local/lib/python3.8/site-packages/nltk/tag/mapping.py\": 1724856560.1877568, \"/home/abhijit/.local/lib/python3.8/site-packages/nltk/tag/crf.py\": 1724856560.1877568, \"/home/abhijit/.local/lib/python3.8/site-packages/nltk/tag/perceptron.py\": 1724856560.1877568, \"/home/abhijit/.local/lib/python3.8/site-packages/nltk/tag/__init__.py\": 1724856560.1877568, \"/home/abhijit/.local/lib/python3.8/site-packages/nltk/tree/tree.py\": 1724856560.2177567, \"/home/abhijit/.local/lib/python3.8/site-packages/nltk/tree/parented.py\": 1724856560.2177567, \"/home/abhijit/.local/lib/python3.8/site-packages/nltk/tree/immutable.py\": 1724856560.2177567, \"/home/abhijit/.local/lib/python3.8/site-packages/nltk/tree/parsing.py\": 1724856560.2177567, \"/home/abhijit/.local/lib/python3.8/site-packages/nltk/tree/prettyprinter.py\": 1724856560.2177567, \"/home/abhijit/.local/lib/python3.8/site-packages/nltk/tree/probabilistic.py\": 1724856560.2177567, \"/home/abhijit/.local/lib/python3.8/site-packages/nltk/tree/transforms.py\": 1724856560.2177567, \"/home/abhijit/.local/lib/python3.8/site-packages/nltk/tree/__init__.py\": 1724856560.2177567, \"/home/abhijit/.local/lib/python3.8/site-packages/nltk/chunk/util.py\": 1724856560.1477568, \"/home/abhijit/.local/lib/python3.8/site-packages/nltk/parse/api.py\": 1724856560.1677568, \"/home/abhijit/.local/lib/python3.8/site-packages/nltk/parse/bllip.py\": 1724856560.1677568, \"/home/abhijit/.local/lib/python3.8/site-packages/nltk/parse/chart.py\": 1724856560.1677568, \"/home/abhijit/.local/lib/python3.8/site-packages/nltk/parse/dependencygraph.py\": 1724856560.1777568, \"/home/abhijit/.local/lib/python3.8/site-packages/nltk/parse/corenlp.py\": 1724856560.1677568, \"/home/abhijit/.local/lib/python3.8/site-packages/nltk/parse/featurechart.py\": 1724856560.1777568, \"/home/abhijit/.local/lib/python3.8/site-packages/nltk/parse/earleychart.py\": 1724856560.1777568, \"/home/abhijit/.local/lib/python3.8/site-packages/nltk/parse/evaluate.py\": 1724856560.1777568, \"/home/abhijit/.local/lib/python3.8/site-packages/nltk/parse/pchart.py\": 1724856560.1777568, \"/home/abhijit/.local/lib/python3.8/site-packages/nltk/parse/util.py\": 1724856560.1777568, \"/home/abhijit/.local/lib/python3.8/site-packages/nltk/parse/malt.py\": 1724856560.1777568, \"/home/abhijit/.local/lib/python3.8/site-packages/nltk/parse/nonprojectivedependencyparser.py\": 1724856560.1777568, \"/home/abhijit/.local/lib/python3.8/site-packages/nltk/parse/projectivedependencyparser.py\": 1724856560.1777568, \"/home/abhijit/.local/lib/python3.8/site-packages/nltk/parse/recursivedescent.py\": 1724856560.1777568, \"/home/abhijit/.local/lib/python3.8/site-packages/nltk/parse/shiftreduce.py\": 1724856560.1777568, \"/home/abhijit/.local/lib/python3.8/site-packages/nltk/parse/transitionparser.py\": 1724856560.1777568, \"/home/abhijit/.local/lib/python3.8/site-packages/nltk/parse/viterbi.py\": 1724856560.1777568, \"/home/abhijit/.local/lib/python3.8/site-packages/nltk/parse/__init__.py\": 1724856560.1677568, \"/home/abhijit/.local/lib/python3.8/site-packages/nltk/chunk/api.py\": 1724856560.1477568, \"/home/abhijit/.local/lib/python3.8/site-packages/nltk/chunk/named_entity.py\": 1724856560.1477568, \"/home/abhijit/.local/lib/python3.8/site-packages/nltk/chunk/regexp.py\": 1724856560.1477568, \"/home/abhijit/.local/lib/python3.8/site-packages/nltk/chunk/__init__.py\": 1724856560.1477568, \"/home/abhijit/.local/lib/python3.8/site-packages/nltk/inference/api.py\": 1724856560.1677568, \"/home/abhijit/.local/lib/python3.8/site-packages/nltk/inference/prover9.py\": 1724856560.1677568, \"/home/abhijit/.local/lib/python3.8/site-packages/nltk/inference/mace.py\": 1724856560.1677568, \"/home/abhijit/.local/lib/python3.8/site-packages/nltk/sem/linearlogic.py\": 1724856560.1777568, \"/home/abhijit/.local/lib/python3.8/site-packages/nltk/sem/glue.py\": 1724856560.1777568, \"/home/abhijit/.local/lib/python3.8/site-packages/nltk/inference/discourse.py\": 1724856560.1677568, \"/home/abhijit/.local/lib/python3.8/site-packages/nltk/inference/resolution.py\": 1724856560.1677568, \"/home/abhijit/.local/lib/python3.8/site-packages/nltk/inference/tableau.py\": 1724856560.1677568, \"/home/abhijit/.local/lib/python3.8/site-packages/nltk/inference/__init__.py\": 1724856560.1677568, \"/home/abhijit/.local/lib/python3.8/site-packages/nltk/translate/api.py\": 1724856560.2077568, \"/home/abhijit/.local/lib/python3.8/site-packages/nltk/translate/ibm_model.py\": 1724856560.2177567, \"/home/abhijit/.local/lib/python3.8/site-packages/nltk/translate/ibm1.py\": 1724856560.2177567, \"/home/abhijit/.local/lib/python3.8/site-packages/nltk/translate/ibm2.py\": 1724856560.2177567, \"/home/abhijit/.local/lib/python3.8/site-packages/nltk/translate/ibm3.py\": 1724856560.2177567, \"/home/abhijit/.local/lib/python3.8/site-packages/nltk/translate/ibm4.py\": 1724856560.2177567, \"/home/abhijit/.local/lib/python3.8/site-packages/nltk/translate/ibm5.py\": 1724856560.2177567, \"/home/abhijit/.local/lib/python3.8/site-packages/nltk/translate/bleu_score.py\": 1724856560.2177567, \"/home/abhijit/.local/lib/python3.8/site-packages/nltk/translate/ribes_score.py\": 1724856560.2177567, \"/home/abhijit/.local/lib/python3.8/site-packages/nltk/corpus/reader/util.py\": 1724856560.1577568, \"/home/abhijit/.local/lib/python3.8/site-packages/nltk/corpus/reader/api.py\": 1724856560.1577568, \"/home/abhijit/.local/lib/python3.8/site-packages/nltk/corpus/reader/plaintext.py\": 1724856560.1577568, \"/home/abhijit/.local/lib/python3.8/site-packages/nltk/corpus/reader/timit.py\": 1724856560.1577568, \"/home/abhijit/.local/lib/python3.8/site-packages/nltk/corpus/reader/tagged.py\": 1724856560.1577568, \"/home/abhijit/.local/lib/python3.8/site-packages/nltk/corpus/reader/cmudict.py\": 1724856560.1577568, \"/home/abhijit/.local/lib/python3.8/site-packages/nltk/corpus/reader/conll.py\": 1724856560.1577568, \"/home/abhijit/.local/lib/python3.8/site-packages/nltk/corpus/reader/bracket_parse.py\": 1724856560.1577568, \"/home/abhijit/.local/lib/python3.8/site-packages/nltk/corpus/reader/chunked.py\": 1724856560.1577568, \"/home/abhijit/.local/lib/python3.8/site-packages/nltk/corpus/reader/wordlist.py\": 1724856560.1577568, \"/home/abhijit/.local/lib/python3.8/site-packages/nltk/corpus/reader/xmldocs.py\": 1724856560.1677568, \"/home/abhijit/.local/lib/python3.8/site-packages/nltk/corpus/reader/ppattach.py\": 1724856560.1577568, \"/home/abhijit/.local/lib/python3.8/site-packages/nltk/corpus/reader/senseval.py\": 1724856560.1577568, \"/home/abhijit/.local/lib/python3.8/site-packages/nltk/corpus/reader/ieer.py\": 1724856560.1577568, \"/home/abhijit/.local/lib/python3.8/site-packages/nltk/corpus/reader/sinica_treebank.py\": 1724856560.1577568, \"/home/abhijit/.local/lib/python3.8/site-packages/nltk/corpus/reader/indian.py\": 1724856560.1577568, \"/home/abhijit/.local/lib/python3.8/site-packages/nltk/toolbox.py\": 1724856560.1377568, \"/home/abhijit/.local/lib/python3.8/site-packages/nltk/corpus/reader/toolbox.py\": 1724856560.1577568, \"/home/abhijit/.local/lib/python3.8/site-packages/nltk/corpus/reader/ycoe.py\": 1724856560.1677568, \"/home/abhijit/.local/lib/python3.8/site-packages/nltk/corpus/reader/rte.py\": 1724856560.1577568, \"/home/abhijit/.local/lib/python3.8/site-packages/nltk/corpus/reader/string_category.py\": 1724856560.1577568, \"/home/abhijit/.local/lib/python3.8/site-packages/nltk/corpus/reader/propbank.py\": 1724856560.1577568, \"/home/abhijit/.local/lib/python3.8/site-packages/nltk/corpus/reader/verbnet.py\": 1724856560.1577568, \"/home/abhijit/.local/lib/python3.8/site-packages/nltk/corpus/reader/bnc.py\": 1724856560.1577568, \"/home/abhijit/.local/lib/python3.8/site-packages/nltk/corpus/reader/nps_chat.py\": 1724856560.1577568, \"/home/abhijit/.local/lib/python3.8/site-packages/nltk/corpus/reader/wordnet.py\": 1724856560.1677568, \"/home/abhijit/.local/lib/python3.8/site-packages/nltk/corpus/reader/switchboard.py\": 1724856560.1577568, \"/home/abhijit/.local/lib/python3.8/site-packages/nltk/corpus/reader/dependency.py\": 1724856560.1577568, \"/home/abhijit/.local/lib/python3.8/site-packages/nltk/corpus/reader/nombank.py\": 1724856560.1577568, \"/home/abhijit/.local/lib/python3.8/site-packages/nltk/corpus/reader/ipipan.py\": 1724856560.1577568, \"/home/abhijit/.local/lib/python3.8/site-packages/nltk/corpus/reader/pl196x.py\": 1724856560.1577568, \"/home/abhijit/.local/lib/python3.8/site-packages/nltk/corpus/reader/knbc.py\": 1724856560.1577568, \"/home/abhijit/.local/lib/python3.8/site-packages/nltk/corpus/reader/chasen.py\": 1724856560.1577568, \"/home/abhijit/.local/lib/python3.8/site-packages/nltk/corpus/reader/childes.py\": 1724856560.1577568, \"/home/abhijit/.local/lib/python3.8/site-packages/nltk/corpus/reader/aligned.py\": 1724856560.1577568, \"/home/abhijit/.local/lib/python3.8/site-packages/nltk/corpus/reader/lin.py\": 1724856560.1577568, \"/home/abhijit/.local/lib/python3.8/site-packages/nltk/corpus/reader/semcor.py\": 1724856560.1577568, \"/home/abhijit/.local/lib/python3.8/site-packages/nltk/corpus/reader/framenet.py\": 1724856560.1577568, \"/home/abhijit/.local/lib/python3.8/site-packages/nltk/corpus/reader/udhr.py\": 1724856560.1577568, \"/home/abhijit/.local/lib/python3.8/site-packages/nltk/corpus/reader/sentiwordnet.py\": 1724856560.1577568, \"/home/abhijit/.local/lib/python3.8/site-packages/nltk/corpus/reader/twitter.py\": 1724856560.1577568, \"/home/abhijit/.local/lib/python3.8/site-packages/nltk/corpus/reader/nkjp.py\": 1724856560.1577568, \"/home/abhijit/.local/lib/python3.8/site-packages/nltk/corpus/reader/crubadan.py\": 1724856560.1577568, \"/home/abhijit/.local/lib/python3.8/site-packages/nltk/corpus/reader/mte.py\": 1724856560.1577568, \"/home/abhijit/.local/lib/python3.8/site-packages/nltk/corpus/reader/reviews.py\": 1724856560.1577568, \"/home/abhijit/.local/lib/python3.8/site-packages/nltk/corpus/reader/opinion_lexicon.py\": 1724856560.1577568, \"/home/abhijit/.local/lib/python3.8/site-packages/nltk/corpus/reader/pros_cons.py\": 1724856560.1577568, \"/home/abhijit/.local/lib/python3.8/site-packages/nltk/corpus/reader/categorized_sents.py\": 1724856560.1577568, \"/home/abhijit/.local/lib/python3.8/site-packages/nltk/corpus/reader/comparative_sents.py\": 1724856560.1577568, \"/home/abhijit/.local/lib/python3.8/site-packages/nltk/corpus/reader/panlex_lite.py\": 1724856560.1577568, \"/home/abhijit/.local/lib/python3.8/site-packages/nltk/corpus/reader/panlex_swadesh.py\": 1724856560.1577568, \"/home/abhijit/.local/lib/python3.8/site-packages/nltk/corpus/reader/bcp47.py\": 1724856560.1577568, \"/home/abhijit/.local/lib/python3.8/site-packages/nltk/corpus/reader/__init__.py\": 1724856560.1577568, \"/home/abhijit/.local/lib/python3.8/site-packages/nltk/corpus/util.py\": 1724856560.1577568, \"/home/abhijit/.local/lib/python3.8/site-packages/nltk/corpus/__init__.py\": 1724856560.1577568, \"/home/abhijit/.local/lib/python3.8/site-packages/nltk/stem/api.py\": 1724856560.1777568, \"/home/abhijit/.local/lib/python3.8/site-packages/nltk/stem/arlstem.py\": 1724856560.1777568, \"/home/abhijit/.local/lib/python3.8/site-packages/nltk/stem/arlstem2.py\": 1724856560.1777568, \"/home/abhijit/.local/lib/python3.8/site-packages/nltk/stem/cistem.py\": 1724856560.1777568, \"/home/abhijit/.local/lib/python3.8/site-packages/nltk/stem/isri.py\": 1724856560.1777568, \"/home/abhijit/.local/lib/python3.8/site-packages/nltk/stem/lancaster.py\": 1724856560.1777568, \"/home/abhijit/.local/lib/python3.8/site-packages/nltk/stem/porter.py\": 1724856560.1777568, \"/home/abhijit/.local/lib/python3.8/site-packages/nltk/stem/regexp.py\": 1724856560.1777568, \"/home/abhijit/.local/lib/python3.8/site-packages/nltk/stem/rslp.py\": 1724856560.1777568, \"/home/abhijit/.local/lib/python3.8/site-packages/nltk/stem/util.py\": 1724856560.1877568, \"/home/abhijit/.local/lib/python3.8/site-packages/nltk/stem/snowball.py\": 1724856560.1777568, \"/home/abhijit/.local/lib/python3.8/site-packages/nltk/stem/wordnet.py\": 1724856560.1877568, \"/home/abhijit/.local/lib/python3.8/site-packages/nltk/stem/__init__.py\": 1724856560.1777568, \"/home/abhijit/.local/lib/python3.8/site-packages/nltk/translate/meteor_score.py\": 1724856560.2177567, \"/home/abhijit/.local/lib/python3.8/site-packages/nltk/translate/metrics.py\": 1724856560.2177567, \"/home/abhijit/.local/lib/python3.8/site-packages/nltk/translate/stack_decoder.py\": 1724856560.2177567, \"/home/abhijit/.local/lib/python3.8/site-packages/nltk/translate/nist_score.py\": 1724856560.2177567, \"/home/abhijit/.local/lib/python3.8/site-packages/nltk/translate/chrf_score.py\": 1724856560.2177567, \"/home/abhijit/.local/lib/python3.8/site-packages/nltk/translate/gale_church.py\": 1724856560.2177567, \"/home/abhijit/.local/lib/python3.8/site-packages/nltk/translate/gdfa.py\": 1724856560.2177567, \"/home/abhijit/.local/lib/python3.8/site-packages/nltk/translate/gleu_score.py\": 1724856560.2177567, \"/home/abhijit/.local/lib/python3.8/site-packages/nltk/translate/phrase_based.py\": 1724856560.2177567, \"/home/abhijit/.local/lib/python3.8/site-packages/nltk/translate/__init__.py\": 1724856560.2077568, \"/home/abhijit/.local/lib/python3.8/site-packages/nltk/lazyimport.py\": 1724856560.1377568, \"/home/abhijit/.local/lib/python3.8/site-packages/nltk/downloader.py\": 1724856560.1377568, \"/home/abhijit/.local/lib/python3.8/site-packages/nltk/ccg/api.py\": 1724856560.1477568, \"/home/abhijit/.local/lib/python3.8/site-packages/nltk/ccg/combinator.py\": 1724856560.1477568, \"/home/abhijit/.local/lib/python3.8/site-packages/nltk/ccg/lexicon.py\": 1724856560.1477568, \"/home/abhijit/.local/lib/python3.8/site-packages/nltk/ccg/logic.py\": 1724856560.1477568, \"/home/abhijit/.local/lib/python3.8/site-packages/nltk/ccg/chart.py\": 1724856560.1477568, \"/home/abhijit/.local/lib/python3.8/site-packages/nltk/ccg/__init__.py\": 1724856560.1477568, \"/home/abhijit/.local/lib/python3.8/site-packages/nltk/help.py\": 1724856560.1377568, \"/home/abhijit/.local/lib/python3.8/site-packages/nltk/misc/babelfish.py\": 1724856560.1677568, \"/home/abhijit/.local/lib/python3.8/site-packages/nltk/misc/chomsky.py\": 1724856560.1677568, \"/home/abhijit/.local/lib/python3.8/site-packages/nltk/misc/minimalset.py\": 1724856560.1677568, \"/home/abhijit/.local/lib/python3.8/site-packages/nltk/misc/wordfinder.py\": 1724856560.1677568, \"/home/abhijit/.local/lib/python3.8/site-packages/nltk/misc/__init__.py\": 1724856560.1677568, \"/home/abhijit/.local/lib/python3.8/site-packages/nltk/wsd.py\": 1724856560.1377568, \"/home/abhijit/.local/lib/python3.8/site-packages/nltk/__init__.py\": 1724856560.1377568, \"/home/abhijit/.local/lib/python3.8/site-packages/tqdm/_monitor.py\": 1724856559.8677566, \"/home/abhijit/.local/lib/python3.8/site-packages/tqdm/_tqdm_pandas.py\": 1724856559.8677566, \"/home/abhijit/.local/lib/python3.8/site-packages/tqdm/utils.py\": 1724856559.8777568, \"/home/abhijit/.local/lib/python3.8/site-packages/tqdm/std.py\": 1724856559.8777568, \"/home/abhijit/.local/lib/python3.8/site-packages/tqdm/_dist_ver.py\": 1724856559.8677566, \"/home/abhijit/.local/lib/python3.8/site-packages/tqdm/version.py\": 1724856559.8777568, \"/home/abhijit/.local/lib/python3.8/site-packages/tqdm/cli.py\": 1724856559.8677566, \"/home/abhijit/.local/lib/python3.8/site-packages/tqdm/gui.py\": 1724856559.8777568, \"/home/abhijit/.local/lib/python3.8/site-packages/tqdm/__init__.py\": 1724856559.8677566, \"/usr/lib/python3.8/multiprocessing/process.py\": 1722272530.0, \"/usr/lib/python3.8/multiprocessing/reduction.py\": 1722272530.0, \"/usr/lib/python3.8/multiprocessing/context.py\": 1722272530.0, \"/usr/lib/python3.8/multiprocessing/__init__.py\": 1722272530.0, \"/usr/lib/python3.8/lib-dynload/_multiprocessing.cpython-38-x86_64-linux-gnu.so\": 1722272530.0, \"/usr/lib/python3.8/multiprocessing/util.py\": 1722272530.0, \"/usr/lib/python3.8/multiprocessing/synchronize.py\": 1722272530.0, \"/home/abhijit/.local/lib/python3.8/site-packages/pygments/styles/default.py\": 1724856450.0677555}\n"
     ]
    }
   ],
   "source": [
    "\n",
    "# imports\n",
    "import os\n",
    "import sys\n",
    "import types\n",
    "import json\n",
    "import base64\n",
    "\n",
    "# figure size/format\n",
    "fig_width = 7\n",
    "fig_height = 5\n",
    "fig_format = 'retina'\n",
    "fig_dpi = 96\n",
    "interactivity = ''\n",
    "is_shiny = False\n",
    "is_dashboard = False\n",
    "plotly_connected = True\n",
    "\n",
    "# matplotlib defaults / format\n",
    "try:\n",
    "  import matplotlib.pyplot as plt\n",
    "  plt.rcParams['figure.figsize'] = (fig_width, fig_height)\n",
    "  plt.rcParams['figure.dpi'] = fig_dpi\n",
    "  plt.rcParams['savefig.dpi'] = \"figure\"\n",
    "  from IPython.display import set_matplotlib_formats\n",
    "  set_matplotlib_formats(fig_format)\n",
    "except Exception:\n",
    "  pass\n",
    "\n",
    "# plotly use connected mode\n",
    "try:\n",
    "  import plotly.io as pio\n",
    "  if plotly_connected:\n",
    "    pio.renderers.default = \"notebook_connected\"\n",
    "  else:\n",
    "    pio.renderers.default = \"notebook\"\n",
    "  for template in pio.templates.keys():\n",
    "    pio.templates[template].layout.margin = dict(t=30,r=0,b=0,l=0)\n",
    "except Exception:\n",
    "  pass\n",
    "\n",
    "# disable itables paging for dashboards\n",
    "if is_dashboard:\n",
    "  try:\n",
    "    from itables import options\n",
    "    options.dom = 'fiBrtlp'\n",
    "    options.maxBytes = 1024 * 1024\n",
    "    options.language = dict(info = \"Showing _TOTAL_ entries\")\n",
    "    options.classes = \"display nowrap compact\"\n",
    "    options.paging = False\n",
    "    options.searching = True\n",
    "    options.ordering = True\n",
    "    options.info = True\n",
    "    options.lengthChange = False\n",
    "    options.autoWidth = False\n",
    "    options.responsive = True\n",
    "    options.keys = True\n",
    "    options.buttons = []\n",
    "  except Exception:\n",
    "    pass\n",
    "  \n",
    "  try:\n",
    "    import altair as alt\n",
    "    # By default, dashboards will have container sized\n",
    "    # vega visualizations which allows them to flow reasonably\n",
    "    theme_sentinel = '_quarto-dashboard-internal'\n",
    "    def make_theme(name):\n",
    "        nonTheme = alt.themes._plugins[name]    \n",
    "        def patch_theme(*args, **kwargs):\n",
    "            existingTheme = nonTheme()\n",
    "            if 'height' not in existingTheme:\n",
    "              existingTheme['height'] = 'container'\n",
    "            if 'width' not in existingTheme:\n",
    "              existingTheme['width'] = 'container'\n",
    "\n",
    "            if 'config' not in existingTheme:\n",
    "              existingTheme['config'] = dict()\n",
    "            \n",
    "            # Configure the default font sizes\n",
    "            title_font_size = 15\n",
    "            header_font_size = 13\n",
    "            axis_font_size = 12\n",
    "            legend_font_size = 12\n",
    "            mark_font_size = 12\n",
    "            tooltip = False\n",
    "\n",
    "            config = existingTheme['config']\n",
    "\n",
    "            # The Axis\n",
    "            if 'axis' not in config:\n",
    "              config['axis'] = dict()\n",
    "            axis = config['axis']\n",
    "            if 'labelFontSize' not in axis:\n",
    "              axis['labelFontSize'] = axis_font_size\n",
    "            if 'titleFontSize' not in axis:\n",
    "              axis['titleFontSize'] = axis_font_size  \n",
    "\n",
    "            # The legend\n",
    "            if 'legend' not in config:\n",
    "              config['legend'] = dict()\n",
    "            legend = config['legend']\n",
    "            if 'labelFontSize' not in legend:\n",
    "              legend['labelFontSize'] = legend_font_size\n",
    "            if 'titleFontSize' not in legend:\n",
    "              legend['titleFontSize'] = legend_font_size  \n",
    "\n",
    "            # The header\n",
    "            if 'header' not in config:\n",
    "              config['header'] = dict()\n",
    "            header = config['header']\n",
    "            if 'labelFontSize' not in header:\n",
    "              header['labelFontSize'] = header_font_size\n",
    "            if 'titleFontSize' not in header:\n",
    "              header['titleFontSize'] = header_font_size    \n",
    "\n",
    "            # Title\n",
    "            if 'title' not in config:\n",
    "              config['title'] = dict()\n",
    "            title = config['title']\n",
    "            if 'fontSize' not in title:\n",
    "              title['fontSize'] = title_font_size\n",
    "\n",
    "            # Marks\n",
    "            if 'mark' not in config:\n",
    "              config['mark'] = dict()\n",
    "            mark = config['mark']\n",
    "            if 'fontSize' not in mark:\n",
    "              mark['fontSize'] = mark_font_size\n",
    "\n",
    "            # Mark tooltips\n",
    "            if tooltip and 'tooltip' not in mark:\n",
    "              mark['tooltip'] = dict(content=\"encoding\")\n",
    "\n",
    "            return existingTheme\n",
    "            \n",
    "        return patch_theme\n",
    "\n",
    "    # We can only do this once per session\n",
    "    if theme_sentinel not in alt.themes.names():\n",
    "      for name in alt.themes.names():\n",
    "        alt.themes.register(name, make_theme(name))\n",
    "      \n",
    "      # register a sentinel theme so we only do this once\n",
    "      alt.themes.register(theme_sentinel, make_theme('default'))\n",
    "      alt.themes.enable('default')\n",
    "\n",
    "  except Exception:\n",
    "    pass\n",
    "\n",
    "# enable pandas latex repr when targeting pdfs\n",
    "try:\n",
    "  import pandas as pd\n",
    "  if fig_format == 'pdf':\n",
    "    pd.set_option('display.latex.repr', True)\n",
    "except Exception:\n",
    "  pass\n",
    "\n",
    "# interactivity\n",
    "if interactivity:\n",
    "  from IPython.core.interactiveshell import InteractiveShell\n",
    "  InteractiveShell.ast_node_interactivity = interactivity\n",
    "\n",
    "# NOTE: the kernel_deps code is repeated in the cleanup.py file\n",
    "# (we can't easily share this code b/c of the way it is run).\n",
    "# If you edit this code also edit the same code in cleanup.py!\n",
    "\n",
    "# output kernel dependencies\n",
    "kernel_deps = dict()\n",
    "for module in list(sys.modules.values()):\n",
    "  # Some modules play games with sys.modules (e.g. email/__init__.py\n",
    "  # in the standard library), and occasionally this can cause strange\n",
    "  # failures in getattr.  Just ignore anything that's not an ordinary\n",
    "  # module.\n",
    "  if not isinstance(module, types.ModuleType):\n",
    "    continue\n",
    "  path = getattr(module, \"__file__\", None)\n",
    "  if not path:\n",
    "    continue\n",
    "  if path.endswith(\".pyc\") or path.endswith(\".pyo\"):\n",
    "    path = path[:-1]\n",
    "  if not os.path.exists(path):\n",
    "    continue\n",
    "  kernel_deps[path] = os.stat(path).st_mtime\n",
    "print(json.dumps(kernel_deps))\n",
    "\n",
    "# set run_path if requested\n",
    "run_path = 'L2hvbWUvYWJoaWppdC9wcm9qZWN0cy9hYmhpaml0LWRhcmVrYXIvcG9zdHM='\n",
    "if run_path:\n",
    "  # hex-decode the path\n",
    "  run_path = base64.b64decode(run_path.encode(\"utf-8\")).decode(\"utf-8\")\n",
    "  os.chdir(run_path)\n",
    "\n",
    "# reset state\n",
    "%reset\n",
    "\n",
    "# shiny\n",
    "# Checking for shiny by using False directly because we're after the %reset. We don't want\n",
    "# to set a variable that stays in global scope.\n",
    "if False:\n",
    "  try:\n",
    "    import htmltools as _htmltools\n",
    "    import ast as _ast\n",
    "\n",
    "    _htmltools.html_dependency_render_mode = \"json\"\n",
    "\n",
    "    # This decorator will be added to all function definitions\n",
    "    def _display_if_has_repr_html(x):\n",
    "      try:\n",
    "        # IPython 7.14 preferred import\n",
    "        from IPython.display import display, HTML\n",
    "      except:\n",
    "        from IPython.core.display import display, HTML\n",
    "\n",
    "      if hasattr(x, '_repr_html_'):\n",
    "        display(HTML(x._repr_html_()))\n",
    "      return x\n",
    "\n",
    "    # ideally we would undo the call to ast_transformers.append\n",
    "    # at the end of this block whenver an error occurs, we do \n",
    "    # this for now as it will only be a problem if the user \n",
    "    # switches from shiny to not-shiny mode (and even then likely\n",
    "    # won't matter)\n",
    "    import builtins\n",
    "    builtins._display_if_has_repr_html = _display_if_has_repr_html\n",
    "\n",
    "    class _FunctionDefReprHtml(_ast.NodeTransformer):\n",
    "      def visit_FunctionDef(self, node):\n",
    "        node.decorator_list.insert(\n",
    "          0,\n",
    "          _ast.Name(id=\"_display_if_has_repr_html\", ctx=_ast.Load())\n",
    "        )\n",
    "        return node\n",
    "\n",
    "      def visit_AsyncFunctionDef(self, node):\n",
    "        node.decorator_list.insert(\n",
    "          0,\n",
    "          _ast.Name(id=\"_display_if_has_repr_html\", ctx=_ast.Load())\n",
    "        )\n",
    "        return node\n",
    "\n",
    "    ip = get_ipython()\n",
    "    ip.ast_transformers.append(_FunctionDefReprHtml())\n",
    "\n",
    "  except:\n",
    "    pass\n",
    "\n",
    "def ojs_define(**kwargs):\n",
    "  import json\n",
    "  try:\n",
    "    # IPython 7.14 preferred import\n",
    "    from IPython.display import display, HTML\n",
    "  except:\n",
    "    from IPython.core.display import display, HTML\n",
    "\n",
    "  # do some minor magic for convenience when handling pandas\n",
    "  # dataframes\n",
    "  def convert(v):\n",
    "    try:\n",
    "      import pandas as pd\n",
    "    except ModuleNotFoundError: # don't do the magic when pandas is not available\n",
    "      return v\n",
    "    if type(v) == pd.Series:\n",
    "      v = pd.DataFrame(v)\n",
    "    if type(v) == pd.DataFrame:\n",
    "      j = json.loads(v.T.to_json(orient='split'))\n",
    "      return dict((k,v) for (k,v) in zip(j[\"index\"], j[\"data\"]))\n",
    "    else:\n",
    "      return v\n",
    "\n",
    "  v = dict(contents=list(dict(name=key, value=convert(value)) for (key, value) in kwargs.items()))\n",
    "  display(HTML('<script type=\"ojs-define\">' + json.dumps(v) + '</script>'), metadata=dict(ojs_define = True))\n",
    "globals()[\"ojs_define\"] = ojs_define\n",
    "# globals()[\"__spec__\"] = None"
   ]
  },
  {
   "cell_type": "code",
   "execution_count": 2,
   "id": "9c5a681f",
   "metadata": {},
   "outputs": [],
   "source": [
    "import string\n",
    "from nltk.util import ngrams\n",
    "from collections import OrderedDict, defaultdict, namedtuple\n",
    "from datetime import datetime\n",
    "from tqdm import tqdm"
   ]
  },
  {
   "cell_type": "code",
   "execution_count": 3,
   "id": "1de51d28",
   "metadata": {},
   "outputs": [],
   "source": [
    "def loadCorpus(file_path, bi_dict, tri_dict, quad_dict, vocab_dict):\n",
    "    token = []\n",
    "    word_len = 0\n",
    "\n",
    "    with open(file_path,'r') as file:\n",
    "        lines  = [ x.strip() for x in file.readlines()]\n",
    "    lines = ['<start> '+x+' <end>' for x in lines]\n",
    "    for line in lines:\n",
    "        temp_l = line.split()\n",
    "        # print(temp_l)\n",
    "        i = 0\n",
    "        j = 0\n",
    "        \n",
    "        for word in temp_l :\n",
    "            j = 0\n",
    "            for l in word :\n",
    "                if l in '!\"#$%&\\'()*+,-./:;=?@[\\\\]^_`{|}~':\n",
    "                    if l == \"'\":\n",
    "                        if j+1<len(word) and word[j+1] == 's':\n",
    "                            j = j + 1\n",
    "                            continue\n",
    "                    word = word.replace(l,\" \")\n",
    "                    #print(j,word[j])\n",
    "                j += 1\n",
    "\n",
    "            temp_l[i] = word.lower()\n",
    "            i=i+1   \n",
    "\n",
    "        content = \" \".join(temp_l)\n",
    "\n",
    "        token = content.split()\n",
    "        word_len = word_len + len(token)  \n",
    "\n",
    "        if not token:\n",
    "            continue\n",
    "\n",
    "        temp0 = list(ngrams(token,2))\n",
    "       \n",
    "        temp1 = list(ngrams(token,3))\n",
    "\n",
    "        for word in token:\n",
    "            if word not in vocab_dict:\n",
    "                vocab_dict[word] = 1\n",
    "            else:\n",
    "                vocab_dict[word]+= 1\n",
    "                \n",
    "        temp2 = list(ngrams(token,4))\n",
    "\n",
    "        for t in temp0:\n",
    "            sen = ' '.join(t)\n",
    "            bi_dict[sen] += 1\n",
    "\n",
    "        for t in temp1:\n",
    "            sen = ' '.join(t)\n",
    "            tri_dict[sen] += 1\n",
    "\n",
    "        for t in temp2:\n",
    "            sen = ' '.join(t)\n",
    "            quad_dict[sen] += 1\n",
    "\n",
    "        n = len(token)\n",
    "           \n",
    "    return word_len"
   ]
  },
  {
   "cell_type": "code",
   "execution_count": 4,
   "id": "fb826421",
   "metadata": {},
   "outputs": [],
   "source": [
    "def createKNDict(ngram_dict, n):\n",
    "\n",
    "    i = 0\n",
    "    d = 0.75\n",
    "\n",
    "    first_dict = {}\n",
    "    \n",
    "    sec_dict = {}\n",
    "    \n",
    "    for key in ngram_dict:\n",
    "        \n",
    "        ngram_token = key.split()\n",
    "       \n",
    "        n_1gram_sen = ' '.join(ngram_token[:n-1])\n",
    "         \n",
    "        if n_1gram_sen not in sec_dict:\n",
    "            sec_dict[ n_1gram_sen ] = 1\n",
    "        else:\n",
    "            sec_dict[ n_1gram_sen ] += 1\n",
    "            \n",
    "        if ngram_token[-1] not in first_dict:\n",
    "            first_dict[ ngram_token[-1] ] = 1\n",
    "        else:\n",
    "            first_dict[ ngram_token[-1] ] += 1\n",
    "    \n",
    "    return first_dict, sec_dict"
   ]
  },
  {
   "cell_type": "code",
   "execution_count": 5,
   "id": "5dd91fde",
   "metadata": {},
   "outputs": [],
   "source": [
    "def computeKnesserNeyProbablity(vocab_dict, ngram_dicts, prob_dict):\n",
    "    d = 0.75\n",
    "    interpolation = 0.4  # Adjust as needed\n",
    "\n",
    "    for order in range(2, len(ngram_dicts) + 2):\n",
    "        current_dict = ngram_dicts[order - 2]\n",
    "\n",
    "        first_dict, sec_dict = createKNDict(current_dict, order)\n",
    "\n",
    "        for ngram in tqdm(current_dict):\n",
    "            ngram_tokens = ngram.split()\n",
    "            prefix = ' '.join(ngram_tokens[:-1])\n",
    "\n",
    "            prob1 = max(current_dict[ngram] - d, 0) / sec_dict[prefix] if prefix in sec_dict else 0\n",
    "            prob2 = d / sec_dict[prefix] * (first_dict[ngram_tokens[-1]] if ngram_tokens[-1] in first_dict else 0)\n",
    "\n",
    "            for i in range(order - 2, 0, -1):\n",
    "                ngram_prefix = ' '.join(ngram_tokens[i:-1])\n",
    "                prob2 *= d / len(ngram_dicts[i - 1]) * (sec_dict[ngram_prefix] if ngram_prefix in sec_dict else 0)\n",
    "\n",
    "            prob_dict[prefix] = prob_dict.get(prefix, [])\n",
    "            prob_dict[prefix].append([(1 - interpolation) * (prob1 + prob2) + interpolation * vocab_dict[ngram_tokens[-1]] / sum(vocab_dict.values()), ngram_tokens[-1]])\n",
    "\n",
    "    print(\"Completed\")"
   ]
  },
  {
   "cell_type": "code",
   "execution_count": 6,
   "id": "c84b5d36",
   "metadata": {},
   "outputs": [],
   "source": [
    "def sortProbWordDict(prob_dict):\n",
    "    for key in prob_dict:\n",
    "        if len(prob_dict[key])>0:\n",
    "            prob_dict[key] = sorted(prob_dict[key],reverse = True)[:2]\n",
    "\n",
    "\n",
    "def removePunctuations(sen):\n",
    "    \"\"\"\n",
    "    Funtion to remove punctuations from the given input sentence and covert them to lowercase.\n",
    "    arg: string\n",
    "    returns: string\n",
    "    \"\"\"\n",
    "    temp_l = sen.split()\n",
    "    i = 0\n",
    "    j = 0\n",
    "    \n",
    "    for word in temp_l :\n",
    "        j = 0\n",
    "        #print(len(word))\n",
    "        for l in word :\n",
    "            if l in string.punctuation:\n",
    "                if l == \"'\":\n",
    "                    if j+1<len(word) and word[j+1] == 's':\n",
    "                        j = j + 1\n",
    "                        continue\n",
    "                word = word.replace(l,\" \")\n",
    "            j += 1\n",
    "\n",
    "        temp_l[i] = word.lower()\n",
    "        i=i+1   \n",
    "    content = \" \".join(temp_l)\n",
    "    return content\n",
    "def doPrediction(sen, prob_dict):\n",
    "    if sen in prob_dict:\n",
    "        return prob_dict[sen]\n",
    "    else:\n",
    "        return \"\""
   ]
  },
  {
   "cell_type": "code",
   "execution_count": 7,
   "id": "a26a3f84",
   "metadata": {},
   "outputs": [
    {
     "name": "stderr",
     "output_type": "stream",
     "text": [
      "\r",
      "  0%|          | 0/9845 [00:00<?, ?it/s]"
     ]
    },
    {
     "name": "stderr",
     "output_type": "stream",
     "text": [
      "\r",
      " 60%|█████▉    | 5887/9845 [00:00<00:00, 58866.27it/s]"
     ]
    },
    {
     "name": "stderr",
     "output_type": "stream",
     "text": [
      "\r",
      "100%|██████████| 9845/9845 [00:00<00:00, 56205.01it/s]"
     ]
    },
    {
     "name": "stderr",
     "output_type": "stream",
     "text": [
      "\n"
     ]
    },
    {
     "name": "stderr",
     "output_type": "stream",
     "text": [
      "\r",
      "  0%|          | 0/19829 [00:00<?, ?it/s]"
     ]
    },
    {
     "name": "stderr",
     "output_type": "stream",
     "text": [
      "\r",
      " 22%|██▏       | 4443/19829 [00:00<00:00, 44420.09it/s]"
     ]
    },
    {
     "name": "stderr",
     "output_type": "stream",
     "text": [
      "\r",
      " 45%|████▌     | 9021/19829 [00:00<00:00, 45203.89it/s]"
     ]
    },
    {
     "name": "stderr",
     "output_type": "stream",
     "text": [
      "\r",
      " 72%|███████▏  | 14368/19829 [00:00<00:00, 48968.84it/s]"
     ]
    },
    {
     "name": "stderr",
     "output_type": "stream",
     "text": [
      "\r",
      " 97%|█████████▋| 19265/19829 [00:00<00:00, 47590.79it/s]"
     ]
    },
    {
     "name": "stderr",
     "output_type": "stream",
     "text": [
      "\r",
      "100%|██████████| 19829/19829 [00:00<00:00, 47156.27it/s]"
     ]
    },
    {
     "name": "stderr",
     "output_type": "stream",
     "text": [
      "\n"
     ]
    },
    {
     "name": "stderr",
     "output_type": "stream",
     "text": [
      "\r",
      "  0%|          | 0/23911 [00:00<?, ?it/s]"
     ]
    },
    {
     "name": "stderr",
     "output_type": "stream",
     "text": [
      "\r",
      " 19%|█▉        | 4536/23911 [00:00<00:00, 45354.96it/s]"
     ]
    },
    {
     "name": "stderr",
     "output_type": "stream",
     "text": [
      "\r",
      " 40%|████      | 9571/23911 [00:00<00:00, 48291.62it/s]"
     ]
    },
    {
     "name": "stderr",
     "output_type": "stream",
     "text": [
      "\r",
      " 61%|██████▏   | 14654/23911 [00:00<00:00, 49449.27it/s]"
     ]
    },
    {
     "name": "stderr",
     "output_type": "stream",
     "text": [
      "\r",
      " 83%|████████▎ | 19747/23911 [00:00<00:00, 50032.81it/s]"
     ]
    },
    {
     "name": "stderr",
     "output_type": "stream",
     "text": [
      "\r",
      "100%|██████████| 23911/23911 [00:00<00:00, 49565.92it/s]"
     ]
    },
    {
     "name": "stderr",
     "output_type": "stream",
     "text": [
      "\n"
     ]
    },
    {
     "name": "stdout",
     "output_type": "stream",
     "text": [
      "Completed\n"
     ]
    }
   ],
   "source": [
    "first = True\n",
    "if first:\n",
    "    bi_dict = defaultdict(int)\n",
    "    tri_dict = defaultdict(int)            \n",
    "    quad_dict = defaultdict(int)   \n",
    "    vocab_dict = defaultdict(int)       \n",
    "    prob_dict = OrderedDict()         \n",
    "\n",
    "    quad_dict = defaultdict(int)   \n",
    "\n",
    "    token_len = loadCorpus(\"last.txt\",bi_dict,tri_dict,quad_dict,vocab_dict)\n",
    "\n",
    "    computeKnesserNeyProbablity(vocab_dict, [bi_dict, tri_dict, quad_dict] ,prob_dict )\n",
    "    sortProbWordDict(prob_dict)\n",
    "    first = False\n",
    "    \n",
    "def get_words(text):\n",
    "    inp_time = datetime.now()\n",
    "    if text.split() == [] and len(text.split())>0:\n",
    "        print(\"Input Text Found to be Empty.\")\n",
    "    text = removePunctuations(text)\n",
    "    text = \"<start> \"+text\n",
    "    if len(text.split())>3:\n",
    "        text = text.split()\n",
    "        text = \" \".join(text[-3:])\n",
    "        \n",
    "    final_words = doPrediction(text.lower(),prob_dict)\n",
    "\n",
    "    print('Word Prediction:',final_words)\n",
    "    inp_proc_time = datetime.now()\n",
    "    print('----------------------------Prediction Time :',inp_proc_time-inp_time)"
   ]
  },
  {
   "cell_type": "code",
   "execution_count": 8,
   "id": "6ebd7e87",
   "metadata": {},
   "outputs": [
    {
     "name": "stdout",
     "output_type": "stream",
     "text": [
      "Word Prediction: [[0.9761837911670966, 'how'], [0.6773237382168934, 'what']]\n",
      "----------------------------Prediction Time : 0:00:00.000336\n"
     ]
    }
   ],
   "source": [
    "get_words(\"Hi\")"
   ]
  },
  {
   "cell_type": "code",
   "execution_count": 9,
   "id": "84fe79f6",
   "metadata": {},
   "outputs": [
    {
     "name": "stdout",
     "output_type": "stream",
     "text": [
      "Word Prediction: [[0.15004384411729987, 'team']]\n",
      "----------------------------Prediction Time : 0:00:00.000279\n"
     ]
    }
   ],
   "source": [
    "get_words(\"good Morning\")"
   ]
  },
  {
   "cell_type": "code",
   "execution_count": 10,
   "id": "e8b4a317",
   "metadata": {},
   "outputs": [
    {
     "name": "stdout",
     "output_type": "stream",
     "text": [
      "Word Prediction: [[1.719622097435119, 'you'], [0.5116390954621338, 'we']]\n",
      "----------------------------Prediction Time : 0:00:00.000390\n"
     ]
    }
   ],
   "source": [
    "get_words(\"What are\")"
   ]
  }
 ],
 "metadata": {
  "kernelspec": {
   "display_name": "Python 3 (ipykernel)",
   "language": "python",
   "name": "python3",
   "path": "/home/abhijit/.local/share/jupyter/kernels/python3"
  }
 },
 "nbformat": 4,
 "nbformat_minor": 5
}